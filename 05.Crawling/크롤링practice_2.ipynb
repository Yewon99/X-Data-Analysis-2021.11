{
 "cells": [
  {
   "cell_type": "markdown",
   "metadata": {},
   "source": [
    "### 새로나온 책(1-10page)\n",
    "- 제목\n",
    "- 저자\n",
    "- 역자\n",
    "- 출간일\n",
    "- 페이지\n",
    "- 정가\n",
    "- 판가\n",
    "- 마일리지"
   ]
  },
  {
   "cell_type": "code",
   "execution_count": 2,
   "metadata": {},
   "outputs": [],
   "source": [
    "import requests\n",
    "from urllib.parse import quote\n",
    "import pandas as pd\n",
    "from bs4 import BeautifulSoup"
   ]
  },
  {
   "cell_type": "code",
   "execution_count": 3,
   "metadata": {},
   "outputs": [],
   "source": [
    "site = 'https://www.hanbit.co.kr'         \n",
    "url = f'{site}/store/books/new_book_list.html'\n",
    "res = requests.get(url)"
   ]
  },
  {
   "cell_type": "code",
   "execution_count": 4,
   "metadata": {},
   "outputs": [],
   "source": [
    "soup = BeautifulSoup(res.text, 'html.parser')"
   ]
  },
  {
   "cell_type": "code",
   "execution_count": 5,
   "metadata": {},
   "outputs": [
    {
     "data": {
      "text/plain": [
       "20"
      ]
     },
     "execution_count": 5,
     "metadata": {},
     "output_type": "execute_result"
    }
   ],
   "source": [
    "lis = soup.select('.sub_book_list')\n",
    "len(lis)"
   ]
  },
  {
   "cell_type": "code",
   "execution_count": 6,
   "metadata": {},
   "outputs": [
    {
     "data": {
      "text/plain": [
       "'/store/books/look.php?p_code=B6972407557'"
      ]
     },
     "execution_count": 6,
     "metadata": {},
     "output_type": "execute_result"
    }
   ],
   "source": [
    "li = lis[1]\n",
    "href = li.select_one('.book_tit').find('a')['href']\n",
    "href"
   ]
  },
  {
   "cell_type": "code",
   "execution_count": 7,
   "metadata": {},
   "outputs": [
    {
     "data": {
      "text/plain": [
       "'다시, 배우다'"
      ]
     },
     "execution_count": 7,
     "metadata": {},
     "output_type": "execute_result"
    }
   ],
   "source": [
    "title = li.select_one('.book_tit').find('a').get_text()\n",
    "title"
   ]
  },
  {
   "cell_type": "code",
   "execution_count": 8,
   "metadata": {},
   "outputs": [
    {
     "data": {
      "text/plain": [
       "'폴 김 '"
      ]
     },
     "execution_count": 8,
     "metadata": {},
     "output_type": "execute_result"
    }
   ],
   "source": [
    "author = li.select_one('.book_writer').get_text()\n",
    "author"
   ]
  },
  {
   "cell_type": "code",
   "execution_count": 9,
   "metadata": {},
   "outputs": [],
   "source": [
    "sub_url = site + href\n",
    "sub_res = requests.get(sub_url)\n",
    "# sub_html = sub_res.text\n",
    "sub_soup = BeautifulSoup(sub_res.text, 'html.parser')"
   ]
  },
  {
   "cell_type": "code",
   "execution_count": 10,
   "metadata": {},
   "outputs": [],
   "source": [
    "sub_lis1 = sub_soup.select('ul.info_list > li')\n",
    "#sub_lis1"
   ]
  },
  {
   "cell_type": "code",
   "execution_count": 11,
   "metadata": {},
   "outputs": [],
   "source": [
    "#title = sub_soup.select_one('.store_product_info_box').find('h3').get_text()\n",
    "#title"
   ]
  },
  {
   "cell_type": "code",
   "execution_count": 12,
   "metadata": {},
   "outputs": [],
   "source": [
    "#author = sub_lis[0].get_text().split(':')[1].strip()\n",
    "#author"
   ]
  },
  {
   "cell_type": "code",
   "execution_count": 13,
   "metadata": {},
   "outputs": [
    {
     "data": {
      "text/plain": [
       "'2021-12-10'"
      ]
     },
     "execution_count": 13,
     "metadata": {},
     "output_type": "execute_result"
    }
   ],
   "source": [
    "translator = sub_lis1[1].get_text().split(':')[1:][0].strip()\n",
    "translator"
   ]
  },
  {
   "cell_type": "code",
   "execution_count": 14,
   "metadata": {},
   "outputs": [
    {
     "data": {
      "text/plain": [
       "'2021-12-10'"
      ]
     },
     "execution_count": 14,
     "metadata": {},
     "output_type": "execute_result"
    }
   ],
   "source": [
    "date = sub_lis1[-4].get_text().split(':')[1].strip()\n",
    "date"
   ]
  },
  {
   "cell_type": "code",
   "execution_count": 15,
   "metadata": {},
   "outputs": [
    {
     "data": {
      "text/plain": [
       "'304'"
      ]
     },
     "execution_count": 15,
     "metadata": {},
     "output_type": "execute_result"
    }
   ],
   "source": [
    "page = sub_lis1[-3].get_text().split(' ')[2]\n",
    "page"
   ]
  },
  {
   "cell_type": "code",
   "execution_count": 16,
   "metadata": {},
   "outputs": [],
   "source": [
    "sub_lis2 = sub_soup.select('div.store_payment_area > fieldset')[0]\n",
    "#sub_lis2"
   ]
  },
  {
   "cell_type": "code",
   "execution_count": 17,
   "metadata": {},
   "outputs": [
    {
     "data": {
      "text/plain": [
       "'16,000원'"
      ]
     },
     "execution_count": 17,
     "metadata": {},
     "output_type": "execute_result"
    }
   ],
   "source": [
    "price = sub_lis2.select('span.pbr > del')[0].get_text()\n",
    "price"
   ]
  },
  {
   "cell_type": "code",
   "execution_count": 18,
   "metadata": {},
   "outputs": [],
   "source": [
    "#price = sub_lis2.select('span.pbr')[0].get_text()\n",
    "#price\n",
    "#container > div.store_view_wrap > div.store_payment_area > fieldset > label.payment_box.curr > p:nth-child(1) > span.pbr > del"
   ]
  },
  {
   "cell_type": "code",
   "execution_count": 19,
   "metadata": {},
   "outputs": [
    {
     "data": {
      "text/plain": [
       "'14,400'"
      ]
     },
     "execution_count": 19,
     "metadata": {},
     "output_type": "execute_result"
    }
   ],
   "source": [
    "sel_price = sub_lis2.select('span.pbr > strong')[0].get_text().strip()\n",
    "sel_price"
   ]
  },
  {
   "cell_type": "code",
   "execution_count": 20,
   "metadata": {},
   "outputs": [],
   "source": [
    "#sel_price = sub_lis2.select('span.pbr')[1].get_text().split('(')[0]\n",
    "#sel_price"
   ]
  },
  {
   "cell_type": "code",
   "execution_count": 21,
   "metadata": {},
   "outputs": [
    {
     "data": {
      "text/plain": [
       "'800점'"
      ]
     },
     "execution_count": 21,
     "metadata": {},
     "output_type": "execute_result"
    }
   ],
   "source": [
    "point = sub_lis2.select('span.pbr')[2].get_text().split(' ')[0]\n",
    "point"
   ]
  },
  {
   "cell_type": "code",
   "execution_count": 22,
   "metadata": {},
   "outputs": [],
   "source": [
    "def convert_unit(s):\n",
    "    s = s.replace('원','').replace('점','').replace(',','')\n",
    "    return f'{int(s):,d}'"
   ]
  },
  {
   "cell_type": "code",
   "execution_count": 23,
   "metadata": {},
   "outputs": [],
   "source": [
    "lines = []\n",
    "for li in lis:\n",
    "    href = li.select_one('.book_tit').find('a')['href']\n",
    "    title = li.select_one('.book_tit').find('a').get_text()\n",
    "    author = li.select_one('.book_writer').get_text()\n",
    "\n",
    "    sub_url = site + href\n",
    "    sub_res = requests.get(sub_url)\n",
    "    sub_soup = BeautifulSoup(sub_res.text, 'html.parser')\n",
    "    sub_lis1 = sub_soup.select('ul.info_list > li')\n",
    "    date = sub_lis1[-4].get_text().split(':')[1].strip()\n",
    "    page = sub_lis1[-3].get_text().split(' ')[2]\n",
    "    sub_lis2 = sub_soup.select('div.store_payment_area > fieldset')[0]\n",
    "    price = sub_lis2.select('span.pbr > del')[0].get_text()\n",
    "    sel_price = sub_lis2.select('span.pbr > strong')[0].get_text().strip()\n",
    "    point = sub_lis2.select('span.pbr')[2].get_text().split(' ')[0]\n",
    "    lines.append([title,author,date,convert_unit(page),convert_unit(price),convert_unit(sel_price),convert_unit(point)])"
   ]
  },
  {
   "cell_type": "code",
   "execution_count": 24,
   "metadata": {},
   "outputs": [
    {
     "data": {
      "text/html": [
       "<div>\n",
       "<style scoped>\n",
       "    .dataframe tbody tr th:only-of-type {\n",
       "        vertical-align: middle;\n",
       "    }\n",
       "\n",
       "    .dataframe tbody tr th {\n",
       "        vertical-align: top;\n",
       "    }\n",
       "\n",
       "    .dataframe thead th {\n",
       "        text-align: right;\n",
       "    }\n",
       "</style>\n",
       "<table border=\"1\" class=\"dataframe\">\n",
       "  <thead>\n",
       "    <tr style=\"text-align: right;\">\n",
       "      <th></th>\n",
       "      <th>책제목</th>\n",
       "      <th>저자</th>\n",
       "      <th>출간일</th>\n",
       "      <th>쪽수</th>\n",
       "      <th>정가</th>\n",
       "      <th>판매가</th>\n",
       "      <th>마일리지</th>\n",
       "    </tr>\n",
       "  </thead>\n",
       "  <tbody>\n",
       "    <tr>\n",
       "      <th>0</th>\n",
       "      <td>하루 한 장 초등과학 365</td>\n",
       "      <td>치바 가즈요시</td>\n",
       "      <td>2021-12-14</td>\n",
       "      <td>416</td>\n",
       "      <td>19,800</td>\n",
       "      <td>17,820</td>\n",
       "      <td>990</td>\n",
       "    </tr>\n",
       "    <tr>\n",
       "      <th>1</th>\n",
       "      <td>다시, 배우다</td>\n",
       "      <td>폴 김</td>\n",
       "      <td>2021-12-10</td>\n",
       "      <td>304</td>\n",
       "      <td>16,000</td>\n",
       "      <td>14,400</td>\n",
       "      <td>800</td>\n",
       "    </tr>\n",
       "    <tr>\n",
       "      <th>2</th>\n",
       "      <td>당당한 디자인 결정을 위한 9가지 방법</td>\n",
       "      <td>톰 그리버</td>\n",
       "      <td>2021-12-10</td>\n",
       "      <td>376</td>\n",
       "      <td>22,000</td>\n",
       "      <td>19,800</td>\n",
       "      <td>1,100</td>\n",
       "    </tr>\n",
       "    <tr>\n",
       "      <th>3</th>\n",
       "      <td>365 부모 말하기 연습 일력(스프링북)</td>\n",
       "      <td>박재연 , 공인영</td>\n",
       "      <td>2021-12-01</td>\n",
       "      <td>384</td>\n",
       "      <td>18,000</td>\n",
       "      <td>16,200</td>\n",
       "      <td>900</td>\n",
       "    </tr>\n",
       "    <tr>\n",
       "      <th>4</th>\n",
       "      <td>공학도를 위한 수치해석(8판)</td>\n",
       "      <td>Steven C.Chapra , Raymond P. Canale</td>\n",
       "      <td>2021-11-30</td>\n",
       "      <td>600</td>\n",
       "      <td>36,000</td>\n",
       "      <td>36,000</td>\n",
       "      <td>1,080</td>\n",
       "    </tr>\n",
       "  </tbody>\n",
       "</table>\n",
       "</div>"
      ],
      "text/plain": [
       "                      책제목                                    저자         출간일  \\\n",
       "0         하루 한 장 초등과학 365                              치바 가즈요시   2021-12-14   \n",
       "1                 다시, 배우다                                  폴 김   2021-12-10   \n",
       "2   당당한 디자인 결정을 위한 9가지 방법                                톰 그리버   2021-12-10   \n",
       "3  365 부모 말하기 연습 일력(스프링북)                            박재연 , 공인영   2021-12-01   \n",
       "4        공학도를 위한 수치해석(8판)  Steven C.Chapra , Raymond P. Canale   2021-11-30   \n",
       "\n",
       "    쪽수      정가     판매가   마일리지  \n",
       "0  416  19,800  17,820    990  \n",
       "1  304  16,000  14,400    800  \n",
       "2  376  22,000  19,800  1,100  \n",
       "3  384  18,000  16,200    900  \n",
       "4  600  36,000  36,000  1,080  "
      ]
     },
     "execution_count": 24,
     "metadata": {},
     "output_type": "execute_result"
    }
   ],
   "source": [
    "df = pd.DataFrame(lines, columns=['책제목','저자','출간일','쪽수','정가','판매가','마일리지'])\n",
    "df.head()"
   ]
  },
  {
   "cell_type": "code",
   "execution_count": 25,
   "metadata": {},
   "outputs": [
    {
     "data": {
      "text/html": [
       "<div>\n",
       "<style scoped>\n",
       "    .dataframe tbody tr th:only-of-type {\n",
       "        vertical-align: middle;\n",
       "    }\n",
       "\n",
       "    .dataframe tbody tr th {\n",
       "        vertical-align: top;\n",
       "    }\n",
       "\n",
       "    .dataframe thead th {\n",
       "        text-align: right;\n",
       "    }\n",
       "</style>\n",
       "<table border=\"1\" class=\"dataframe\">\n",
       "  <thead>\n",
       "    <tr style=\"text-align: right;\">\n",
       "      <th></th>\n",
       "      <th>책제목</th>\n",
       "      <th>저자</th>\n",
       "      <th>출간일</th>\n",
       "      <th>쪽수</th>\n",
       "      <th>정가</th>\n",
       "      <th>판매가</th>\n",
       "      <th>마일리지</th>\n",
       "    </tr>\n",
       "  </thead>\n",
       "  <tbody>\n",
       "    <tr>\n",
       "      <th>15</th>\n",
       "      <td>나도 영문 손글씨 잘 쓰면 소원이 없겠네</td>\n",
       "      <td>윤정희(리제 캘리그라피)</td>\n",
       "      <td>2021-11-05</td>\n",
       "      <td>240</td>\n",
       "      <td>16,800</td>\n",
       "      <td>15,120</td>\n",
       "      <td>840</td>\n",
       "    </tr>\n",
       "    <tr>\n",
       "      <th>16</th>\n",
       "      <td>구글 BERT의 정석</td>\n",
       "      <td>수다르산 라비찬디란</td>\n",
       "      <td>2021-11-03</td>\n",
       "      <td>368</td>\n",
       "      <td>34,000</td>\n",
       "      <td>30,600</td>\n",
       "      <td>1,700</td>\n",
       "    </tr>\n",
       "    <tr>\n",
       "      <th>17</th>\n",
       "      <td>1000개 숨은그림찾기 몬스터 : 찾아도 찾아도 끝판왕</td>\n",
       "      <td>김확실</td>\n",
       "      <td>2021-11-02</td>\n",
       "      <td>96</td>\n",
       "      <td>8,000</td>\n",
       "      <td>7,200</td>\n",
       "      <td>400</td>\n",
       "    </tr>\n",
       "    <tr>\n",
       "      <th>18</th>\n",
       "      <td>1000개 숨은그림찾기 보물찾기 : 찾아도 찾아도 끝판왕</td>\n",
       "      <td>전진희</td>\n",
       "      <td>2021-11-02</td>\n",
       "      <td>96</td>\n",
       "      <td>8,000</td>\n",
       "      <td>7,200</td>\n",
       "      <td>400</td>\n",
       "    </tr>\n",
       "    <tr>\n",
       "      <th>19</th>\n",
       "      <td>1000개 숨은그림찾기 탈것 : 찾아도 찾아도 끝판왕</td>\n",
       "      <td>이한이</td>\n",
       "      <td>2021-11-02</td>\n",
       "      <td>96</td>\n",
       "      <td>8,000</td>\n",
       "      <td>7,200</td>\n",
       "      <td>400</td>\n",
       "    </tr>\n",
       "  </tbody>\n",
       "</table>\n",
       "</div>"
      ],
      "text/plain": [
       "                                책제목              저자         출간일   쪽수      정가  \\\n",
       "15           나도 영문 손글씨 잘 쓰면 소원이 없겠네  윤정희(리제 캘리그라피)   2021-11-05  240  16,800   \n",
       "16                      구글 BERT의 정석     수다르산 라비찬디란   2021-11-03  368  34,000   \n",
       "17   1000개 숨은그림찾기 몬스터 : 찾아도 찾아도 끝판왕            김확실   2021-11-02   96   8,000   \n",
       "18  1000개 숨은그림찾기 보물찾기 : 찾아도 찾아도 끝판왕            전진희   2021-11-02   96   8,000   \n",
       "19    1000개 숨은그림찾기 탈것 : 찾아도 찾아도 끝판왕            이한이   2021-11-02   96   8,000   \n",
       "\n",
       "       판매가   마일리지  \n",
       "15  15,120    840  \n",
       "16  30,600  1,700  \n",
       "17   7,200    400  \n",
       "18   7,200    400  \n",
       "19   7,200    400  "
      ]
     },
     "execution_count": 25,
     "metadata": {},
     "output_type": "execute_result"
    }
   ],
   "source": [
    "df.tail()"
   ]
  },
  {
   "cell_type": "code",
   "execution_count": 26,
   "metadata": {},
   "outputs": [],
   "source": [
    "lines = []\n",
    "for page in range(1,11):\n",
    "    url = 'https://www.hanbit.co.kr/store/books/new_book_list.html?page='+str(page)     # '&brand=&cate1=&cate2=&searchKey=&keyWord=' 뒷부분은 parameter가 지정되지 않았기 때문에 없어도 상관없음 / 'store/books/new_book_list.html?page=' 이 부분이 path인데 크롤링할 때 url에서 신경써야 하는 부분\n",
    "    soup = BeautifulSoup(res.text, 'html.parser')\n",
    "    li = lis[0]\n",
    " \n",
    "    lines = []\n",
    "    for li in lis:\n",
    "        href = li.select_one('.book_tit').find('a')['href']\n",
    "        title = li.select_one('.book_tit').find('a').get_text()\n",
    "        author = li.select_one('.book_writer').get_text()\n",
    "\n",
    "        sub_url = site + href\n",
    "        sub_res = requests.get(sub_url)\n",
    "        sub_soup = BeautifulSoup(sub_res.text, 'html.parser')\n",
    "        sub_lis1 = sub_soup.select('ul.info_list > li')\n",
    "        date = sub_lis1[-4].get_text().split(':')[1].strip()\n",
    "        page = sub_lis1[-3].get_text().split(' ')[2]\n",
    "        sub_lis2 = sub_soup.select('div.store_payment_area > fieldset')[0]\n",
    "        price = sub_lis2.select('span.pbr > del')[0].get_text()\n",
    "        sel_price = sub_lis2.select('span.pbr > strong')[0].get_text().strip()\n",
    "        point = sub_lis2.select('span.pbr')[2].get_text().split(' ')[0]\n",
    "        lines.append([title,author,date,convert_unit(page),convert_unit(price),convert_unit(sel_price),convert_unit(point)])"
   ]
  },
  {
   "cell_type": "code",
   "execution_count": 29,
   "metadata": {},
   "outputs": [
    {
     "data": {
      "text/html": [
       "<div>\n",
       "<style scoped>\n",
       "    .dataframe tbody tr th:only-of-type {\n",
       "        vertical-align: middle;\n",
       "    }\n",
       "\n",
       "    .dataframe tbody tr th {\n",
       "        vertical-align: top;\n",
       "    }\n",
       "\n",
       "    .dataframe thead th {\n",
       "        text-align: right;\n",
       "    }\n",
       "</style>\n",
       "<table border=\"1\" class=\"dataframe\">\n",
       "  <thead>\n",
       "    <tr style=\"text-align: right;\">\n",
       "      <th></th>\n",
       "      <th>책제목</th>\n",
       "      <th>저자</th>\n",
       "      <th>출간일</th>\n",
       "      <th>쪽수</th>\n",
       "      <th>정가</th>\n",
       "      <th>판매가</th>\n",
       "      <th>마일리지</th>\n",
       "    </tr>\n",
       "  </thead>\n",
       "  <tbody>\n",
       "    <tr>\n",
       "      <th>0</th>\n",
       "      <td>하루 한 장 초등과학 365</td>\n",
       "      <td>치바 가즈요시</td>\n",
       "      <td>2021-12-14</td>\n",
       "      <td>416</td>\n",
       "      <td>19,800</td>\n",
       "      <td>17,820</td>\n",
       "      <td>990</td>\n",
       "    </tr>\n",
       "    <tr>\n",
       "      <th>1</th>\n",
       "      <td>다시, 배우다</td>\n",
       "      <td>폴 김</td>\n",
       "      <td>2021-12-10</td>\n",
       "      <td>304</td>\n",
       "      <td>16,000</td>\n",
       "      <td>14,400</td>\n",
       "      <td>800</td>\n",
       "    </tr>\n",
       "    <tr>\n",
       "      <th>2</th>\n",
       "      <td>당당한 디자인 결정을 위한 9가지 방법</td>\n",
       "      <td>톰 그리버</td>\n",
       "      <td>2021-12-10</td>\n",
       "      <td>376</td>\n",
       "      <td>22,000</td>\n",
       "      <td>19,800</td>\n",
       "      <td>1,100</td>\n",
       "    </tr>\n",
       "    <tr>\n",
       "      <th>3</th>\n",
       "      <td>365 부모 말하기 연습 일력(스프링북)</td>\n",
       "      <td>박재연 , 공인영</td>\n",
       "      <td>2021-12-01</td>\n",
       "      <td>384</td>\n",
       "      <td>18,000</td>\n",
       "      <td>16,200</td>\n",
       "      <td>900</td>\n",
       "    </tr>\n",
       "    <tr>\n",
       "      <th>4</th>\n",
       "      <td>공학도를 위한 수치해석(8판)</td>\n",
       "      <td>Steven C.Chapra , Raymond P. Canale</td>\n",
       "      <td>2021-11-30</td>\n",
       "      <td>600</td>\n",
       "      <td>36,000</td>\n",
       "      <td>36,000</td>\n",
       "      <td>1,080</td>\n",
       "    </tr>\n",
       "  </tbody>\n",
       "</table>\n",
       "</div>"
      ],
      "text/plain": [
       "                      책제목                                    저자         출간일  \\\n",
       "0         하루 한 장 초등과학 365                              치바 가즈요시   2021-12-14   \n",
       "1                 다시, 배우다                                  폴 김   2021-12-10   \n",
       "2   당당한 디자인 결정을 위한 9가지 방법                                톰 그리버   2021-12-10   \n",
       "3  365 부모 말하기 연습 일력(스프링북)                            박재연 , 공인영   2021-12-01   \n",
       "4        공학도를 위한 수치해석(8판)  Steven C.Chapra , Raymond P. Canale   2021-11-30   \n",
       "\n",
       "    쪽수      정가     판매가   마일리지  \n",
       "0  416  19,800  17,820    990  \n",
       "1  304  16,000  14,400    800  \n",
       "2  376  22,000  19,800  1,100  \n",
       "3  384  18,000  16,200    900  \n",
       "4  600  36,000  36,000  1,080  "
      ]
     },
     "execution_count": 29,
     "metadata": {},
     "output_type": "execute_result"
    }
   ],
   "source": [
    "df = pd.DataFrame(lines, columns=['책제목','저자','출간일','쪽수','정가','판매가','마일리지'])\n",
    "df.head()"
   ]
  },
  {
   "cell_type": "code",
   "execution_count": 30,
   "metadata": {},
   "outputs": [
    {
     "data": {
      "text/html": [
       "<div>\n",
       "<style scoped>\n",
       "    .dataframe tbody tr th:only-of-type {\n",
       "        vertical-align: middle;\n",
       "    }\n",
       "\n",
       "    .dataframe tbody tr th {\n",
       "        vertical-align: top;\n",
       "    }\n",
       "\n",
       "    .dataframe thead th {\n",
       "        text-align: right;\n",
       "    }\n",
       "</style>\n",
       "<table border=\"1\" class=\"dataframe\">\n",
       "  <thead>\n",
       "    <tr style=\"text-align: right;\">\n",
       "      <th></th>\n",
       "      <th>책제목</th>\n",
       "      <th>저자</th>\n",
       "      <th>출간일</th>\n",
       "      <th>쪽수</th>\n",
       "      <th>정가</th>\n",
       "      <th>판매가</th>\n",
       "      <th>마일리지</th>\n",
       "    </tr>\n",
       "  </thead>\n",
       "  <tbody>\n",
       "    <tr>\n",
       "      <th>15</th>\n",
       "      <td>나도 영문 손글씨 잘 쓰면 소원이 없겠네</td>\n",
       "      <td>윤정희(리제 캘리그라피)</td>\n",
       "      <td>2021-11-05</td>\n",
       "      <td>240</td>\n",
       "      <td>16,800</td>\n",
       "      <td>15,120</td>\n",
       "      <td>840</td>\n",
       "    </tr>\n",
       "    <tr>\n",
       "      <th>16</th>\n",
       "      <td>구글 BERT의 정석</td>\n",
       "      <td>수다르산 라비찬디란</td>\n",
       "      <td>2021-11-03</td>\n",
       "      <td>368</td>\n",
       "      <td>34,000</td>\n",
       "      <td>30,600</td>\n",
       "      <td>1,700</td>\n",
       "    </tr>\n",
       "    <tr>\n",
       "      <th>17</th>\n",
       "      <td>1000개 숨은그림찾기 몬스터 : 찾아도 찾아도 끝판왕</td>\n",
       "      <td>김확실</td>\n",
       "      <td>2021-11-02</td>\n",
       "      <td>96</td>\n",
       "      <td>8,000</td>\n",
       "      <td>7,200</td>\n",
       "      <td>400</td>\n",
       "    </tr>\n",
       "    <tr>\n",
       "      <th>18</th>\n",
       "      <td>1000개 숨은그림찾기 보물찾기 : 찾아도 찾아도 끝판왕</td>\n",
       "      <td>전진희</td>\n",
       "      <td>2021-11-02</td>\n",
       "      <td>96</td>\n",
       "      <td>8,000</td>\n",
       "      <td>7,200</td>\n",
       "      <td>400</td>\n",
       "    </tr>\n",
       "    <tr>\n",
       "      <th>19</th>\n",
       "      <td>1000개 숨은그림찾기 탈것 : 찾아도 찾아도 끝판왕</td>\n",
       "      <td>이한이</td>\n",
       "      <td>2021-11-02</td>\n",
       "      <td>96</td>\n",
       "      <td>8,000</td>\n",
       "      <td>7,200</td>\n",
       "      <td>400</td>\n",
       "    </tr>\n",
       "  </tbody>\n",
       "</table>\n",
       "</div>"
      ],
      "text/plain": [
       "                                책제목              저자         출간일   쪽수      정가  \\\n",
       "15           나도 영문 손글씨 잘 쓰면 소원이 없겠네  윤정희(리제 캘리그라피)   2021-11-05  240  16,800   \n",
       "16                      구글 BERT의 정석     수다르산 라비찬디란   2021-11-03  368  34,000   \n",
       "17   1000개 숨은그림찾기 몬스터 : 찾아도 찾아도 끝판왕            김확실   2021-11-02   96   8,000   \n",
       "18  1000개 숨은그림찾기 보물찾기 : 찾아도 찾아도 끝판왕            전진희   2021-11-02   96   8,000   \n",
       "19    1000개 숨은그림찾기 탈것 : 찾아도 찾아도 끝판왕            이한이   2021-11-02   96   8,000   \n",
       "\n",
       "       판매가   마일리지  \n",
       "15  15,120    840  \n",
       "16  30,600  1,700  \n",
       "17   7,200    400  \n",
       "18   7,200    400  \n",
       "19   7,200    400  "
      ]
     },
     "execution_count": 30,
     "metadata": {},
     "output_type": "execute_result"
    }
   ],
   "source": [
    "df.tail()"
   ]
  },
  {
   "cell_type": "markdown",
   "metadata": {},
   "source": [
    "- 시리즈가 여러개 있을 경우 각 시리즈의 갯수가 동일해야 함 만약 값이 없다면 '-'이나 'NA' 혹은 'NaN'으로 채워야 함\n",
    "- 코딩을 할 때는 완료한 후 refactoring하는 과정이 필요"
   ]
  },
  {
   "cell_type": "code",
   "execution_count": null,
   "metadata": {},
   "outputs": [],
   "source": []
  }
 ],
 "metadata": {
  "interpreter": {
   "hash": "72d8290bce898e2123793bdcf5016b68a0411406de21a03f1958d3a075c7de15"
  },
  "kernelspec": {
   "display_name": "Python 3.8.8 64-bit ('base': conda)",
   "language": "python",
   "name": "python3"
  },
  "language_info": {
   "codemirror_mode": {
    "name": "ipython",
    "version": 3
   },
   "file_extension": ".py",
   "mimetype": "text/x-python",
   "name": "python",
   "nbconvert_exporter": "python",
   "pygments_lexer": "ipython3",
   "version": "3.8.8"
  },
  "orig_nbformat": 4
 },
 "nbformat": 4,
 "nbformat_minor": 2
}
