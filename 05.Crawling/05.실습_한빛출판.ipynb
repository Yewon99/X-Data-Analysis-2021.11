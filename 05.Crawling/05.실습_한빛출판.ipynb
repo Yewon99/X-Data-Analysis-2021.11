{
 "cells": [
  {
   "cell_type": "markdown",
   "metadata": {},
   "source": [
    "### 새로나온 책(1-10page)\n",
    "- 제목\n",
    "- 저자\n",
    "- 역자\n",
    "- 출간일\n",
    "- 페이지\n",
    "- 정가\n",
    "- 판가\n",
    "- 마일리지"
   ]
  },
  {
   "cell_type": "code",
   "execution_count": 169,
   "metadata": {},
   "outputs": [],
   "source": [
    "import requests\n",
    "from urllib.parse import quote\n",
    "import pandas as pd\n",
    "from bs4 import BeautifulSoup"
   ]
  },
  {
   "cell_type": "code",
   "execution_count": 190,
   "metadata": {},
   "outputs": [],
   "source": [
    "base_url = 'https://www.hanbit.co.kr'         \n",
    "sub_url = '/store/books/new_book_list.html'\n",
    "url = base_url + sub_url\n",
    "res = requests.get(url)"
   ]
  },
  {
   "cell_type": "code",
   "execution_count": 171,
   "metadata": {},
   "outputs": [],
   "source": [
    "soup = BeautifulSoup(res.text, 'html.parser')"
   ]
  },
  {
   "cell_type": "code",
   "execution_count": 172,
   "metadata": {},
   "outputs": [
    {
     "data": {
      "text/plain": [
       "20"
      ]
     },
     "execution_count": 172,
     "metadata": {},
     "output_type": "execute_result"
    }
   ],
   "source": [
    "lis = soup.select('.sub_book_list')\n",
    "len(lis)"
   ]
  },
  {
   "cell_type": "code",
   "execution_count": 189,
   "metadata": {},
   "outputs": [
    {
     "data": {
      "text/plain": [
       "'/store/books/look.php?p_code=B6694310162'"
      ]
     },
     "execution_count": 189,
     "metadata": {},
     "output_type": "execute_result"
    }
   ],
   "source": [
    "li = lis[0]\n",
    "href = li.find('a')['href']\n",
    "href"
   ]
  },
  {
   "cell_type": "code",
   "execution_count": 191,
   "metadata": {},
   "outputs": [],
   "source": [
    "res = requests.get(base_url + href)\n",
    "# sub_html = sub_res.text\n",
    "book_soup = BeautifulSoup(res.text, 'html.parser')"
   ]
  },
  {
   "cell_type": "code",
   "execution_count": 193,
   "metadata": {},
   "outputs": [
    {
     "data": {
      "text/plain": [
       "'하루 한 장 초등과학 365'"
      ]
     },
     "execution_count": 193,
     "metadata": {},
     "output_type": "execute_result"
    }
   ],
   "source": [
    "info = book_soup.select_one('.store_product_info_box')\n",
    "title = li.select_one('.book_tit').find('a').get_text()\n",
    "title"
   ]
  },
  {
   "cell_type": "code",
   "execution_count": 194,
   "metadata": {},
   "outputs": [
    {
     "data": {
      "text/plain": [
       "'치바 가즈요시 '"
      ]
     },
     "execution_count": 194,
     "metadata": {},
     "output_type": "execute_result"
    }
   ],
   "source": [
    "book_lis = info.select('.info_list > li')\n",
    "author = book_lis[0].find('span').get_text()\n",
    "author"
   ]
  },
  {
   "cell_type": "code",
   "execution_count": 195,
   "metadata": {},
   "outputs": [
    {
     "data": {
      "text/plain": [
       "'허영은 , 유우종 (감수)'"
      ]
     },
     "execution_count": 195,
     "metadata": {},
     "output_type": "execute_result"
    }
   ],
   "source": [
    "if len(book_lis) == 5:\n",
    "    translator = '-'\n",
    "else:\n",
    "    translator = book_lis[1].find('span').get_text().strip()\n",
    "translator"
   ]
  },
  {
   "cell_type": "code",
   "execution_count": 196,
   "metadata": {},
   "outputs": [
    {
     "data": {
      "text/plain": [
       "'2021-12-14'"
      ]
     },
     "execution_count": 196,
     "metadata": {},
     "output_type": "execute_result"
    }
   ],
   "source": [
    "date = book_lis[-4].find('span').get_text().strip()\n",
    "date"
   ]
  },
  {
   "cell_type": "code",
   "execution_count": 197,
   "metadata": {},
   "outputs": [
    {
     "data": {
      "text/plain": [
       "416"
      ]
     },
     "execution_count": 197,
     "metadata": {},
     "output_type": "execute_result"
    }
   ],
   "source": [
    "page = book_lis[-3].find('span').get_text().strip().split()[0]\n",
    "page = int(page)\n",
    "page"
   ]
  },
  {
   "cell_type": "code",
   "execution_count": 198,
   "metadata": {},
   "outputs": [
    {
     "data": {
      "text/plain": [
       "'19,800원'"
      ]
     },
     "execution_count": 198,
     "metadata": {},
     "output_type": "execute_result"
    }
   ],
   "source": [
    "payments = book_soup.select_one('.payment_box.curr').find_all('p')\n",
    "price = payments[0].select_one('.pbr').get_text().strip()\n",
    "price"
   ]
  },
  {
   "cell_type": "code",
   "execution_count": 199,
   "metadata": {},
   "outputs": [
    {
     "data": {
      "text/plain": [
       "'17,820원'"
      ]
     },
     "execution_count": 199,
     "metadata": {},
     "output_type": "execute_result"
    }
   ],
   "source": [
    "sales = payments[1].select_one('.pbr').get_text().split('(')[0]\n",
    "sales"
   ]
  },
  {
   "cell_type": "code",
   "execution_count": 185,
   "metadata": {},
   "outputs": [
    {
     "data": {
      "text/plain": [
       "'990점'"
      ]
     },
     "execution_count": 185,
     "metadata": {},
     "output_type": "execute_result"
    }
   ],
   "source": [
    "mileage = payments[2].select_one('.pbr').get_text().split()[0]\n",
    "mileage"
   ]
  },
  {
   "cell_type": "code",
   "execution_count": 200,
   "metadata": {},
   "outputs": [
    {
     "data": {
      "application/vnd.jupyter.widget-view+json": {
       "model_id": "7287c47e3627437bba98af2423393be1",
       "version_major": 2,
       "version_minor": 0
      },
      "text/plain": [
       "  0%|          | 0/10 [00:00<?, ?it/s]"
      ]
     },
     "metadata": {},
     "output_type": "display_data"
    }
   ],
   "source": [
    "from tqdm.notebook import tqdm\n",
    "\n",
    "lines = []\n",
    "for page in tqdm(range(1,11)):\n",
    "    url = f'{base_url}{sub_url}?page={page}'\n",
    "    res = requests.get(url)\n",
    "    soup = BeautifulSoup(res.text, 'html.parser')\n",
    "    lis = soup.select('.sub_book_list')\n",
    "    \n",
    "    for li in lis:\n",
    "        book_url = li.find('a')['href']\n",
    "        res = requests.get(base_url + book_url)\n",
    "        book_soup = BeautifulSoup(res.text, 'html.parser')\n",
    "\n",
    "        info = book_soup.select_one('.store_product_info_box')\n",
    "        title = info.find('h3').string\n",
    "        book_lis = info.select('.info_list > li')\n",
    "        author = book_lis[0].find('span').get_text().strip()\n",
    "        if len(book_lis) == 5:\n",
    "            translator = '-'\n",
    "        else:\n",
    "            translator = book_lis[1].find('span').get_text().strip()\n",
    "        date = book_lis[-4].find('span').get_text().strip()\n",
    "        page = book_lis[-3].find('span').get_text().strip().split()[0]\n",
    "        \n",
    "        payments = book_soup.select_one('.payment_box.curr').find_all('p')\n",
    "        price = payments[0].select_one('.pbr').get_text().strip()\n",
    "        sales = payments[1].select_one('.pbr').get_text().split('(')[0]\n",
    "        mileage = payments[2].select_one('.pbr').get_text().split()[0]\n",
    "\n",
    "        lines.append([title,author,translator,date,int(page),\n",
    "                      convert_unit(price),convert_unit(sales),convert_unit(mileage)])"
   ]
  },
  {
   "cell_type": "code",
   "execution_count": 186,
   "metadata": {},
   "outputs": [],
   "source": [
    "def convert_unit(s):\n",
    "    return int(s.replace(',','').replace('원','').replace('점',''))"
   ]
  },
  {
   "cell_type": "code",
   "execution_count": 201,
   "metadata": {},
   "outputs": [
    {
     "data": {
      "text/html": [
       "<div>\n",
       "<style scoped>\n",
       "    .dataframe tbody tr th:only-of-type {\n",
       "        vertical-align: middle;\n",
       "    }\n",
       "\n",
       "    .dataframe tbody tr th {\n",
       "        vertical-align: top;\n",
       "    }\n",
       "\n",
       "    .dataframe thead th {\n",
       "        text-align: right;\n",
       "    }\n",
       "</style>\n",
       "<table border=\"1\" class=\"dataframe\">\n",
       "  <thead>\n",
       "    <tr style=\"text-align: right;\">\n",
       "      <th></th>\n",
       "      <th>책제목</th>\n",
       "      <th>저자</th>\n",
       "      <th>번역</th>\n",
       "      <th>출간일</th>\n",
       "      <th>쪽수</th>\n",
       "      <th>정가</th>\n",
       "      <th>판매가</th>\n",
       "      <th>마일리지</th>\n",
       "    </tr>\n",
       "  </thead>\n",
       "  <tbody>\n",
       "    <tr>\n",
       "      <th>0</th>\n",
       "      <td>하루 한 장 초등과학 365</td>\n",
       "      <td>치바 가즈요시</td>\n",
       "      <td>허영은 , 유우종 (감수)</td>\n",
       "      <td>2021-12-14</td>\n",
       "      <td>416</td>\n",
       "      <td>19,800</td>\n",
       "      <td>17,820</td>\n",
       "      <td>990</td>\n",
       "    </tr>\n",
       "    <tr>\n",
       "      <th>1</th>\n",
       "      <td>다시, 배우다</td>\n",
       "      <td>폴 김</td>\n",
       "      <td>-</td>\n",
       "      <td>2021-12-10</td>\n",
       "      <td>304</td>\n",
       "      <td>16,000</td>\n",
       "      <td>14,400</td>\n",
       "      <td>800</td>\n",
       "    </tr>\n",
       "    <tr>\n",
       "      <th>2</th>\n",
       "      <td>당당한 디자인 결정을 위한 9가지 방법</td>\n",
       "      <td>톰 그리버</td>\n",
       "      <td>김민성 , 곽서희</td>\n",
       "      <td>2021-12-10</td>\n",
       "      <td>376</td>\n",
       "      <td>22,000</td>\n",
       "      <td>19,800</td>\n",
       "      <td>1,100</td>\n",
       "    </tr>\n",
       "    <tr>\n",
       "      <th>3</th>\n",
       "      <td>365 부모 말하기 연습 일력(스프링북)</td>\n",
       "      <td>박재연 , 공인영</td>\n",
       "      <td>-</td>\n",
       "      <td>2021-12-01</td>\n",
       "      <td>384</td>\n",
       "      <td>18,000</td>\n",
       "      <td>16,200</td>\n",
       "      <td>900</td>\n",
       "    </tr>\n",
       "    <tr>\n",
       "      <th>4</th>\n",
       "      <td>공학도를 위한 수치해석(8판)</td>\n",
       "      <td>Steven C.Chapra , Raymond P. Canale</td>\n",
       "      <td>나양 , 이승배 , 임윤철</td>\n",
       "      <td>2021-11-30</td>\n",
       "      <td>600</td>\n",
       "      <td>36,000</td>\n",
       "      <td>36,000</td>\n",
       "      <td>1,080</td>\n",
       "    </tr>\n",
       "  </tbody>\n",
       "</table>\n",
       "</div>"
      ],
      "text/plain": [
       "                      책제목                                   저자  \\\n",
       "0         하루 한 장 초등과학 365                              치바 가즈요시   \n",
       "1                 다시, 배우다                                  폴 김   \n",
       "2   당당한 디자인 결정을 위한 9가지 방법                                톰 그리버   \n",
       "3  365 부모 말하기 연습 일력(스프링북)                            박재연 , 공인영   \n",
       "4        공학도를 위한 수치해석(8판)  Steven C.Chapra , Raymond P. Canale   \n",
       "\n",
       "               번역         출간일   쪽수      정가     판매가   마일리지  \n",
       "0  허영은 , 유우종 (감수)  2021-12-14  416  19,800  17,820    990  \n",
       "1               -  2021-12-10  304  16,000  14,400    800  \n",
       "2       김민성 , 곽서희  2021-12-10  376  22,000  19,800  1,100  \n",
       "3               -  2021-12-01  384  18,000  16,200    900  \n",
       "4  나양 , 이승배 , 임윤철  2021-11-30  600  36,000  36,000  1,080  "
      ]
     },
     "execution_count": 201,
     "metadata": {},
     "output_type": "execute_result"
    }
   ],
   "source": [
    "df = pd.DataFrame(lines, columns=['책제목','저자','번역','출간일','쪽수','정가','판매가','마일리지'])\n",
    "df.head()"
   ]
  },
  {
   "cell_type": "markdown",
   "metadata": {},
   "source": [
    "- Bug fix"
   ]
  },
  {
   "cell_type": "code",
   "execution_count": 202,
   "metadata": {},
   "outputs": [
    {
     "data": {
      "text/plain": [
       "20"
      ]
     },
     "execution_count": 202,
     "metadata": {},
     "output_type": "execute_result"
    }
   ],
   "source": [
    "len(lis)"
   ]
  },
  {
   "cell_type": "code",
   "execution_count": 203,
   "metadata": {},
   "outputs": [
    {
     "data": {
      "text/plain": [
       "<li class=\"sub_book_list\">\n",
       "<div class=\"view_box\">\n",
       "<!--\n",
       "            <span class=\"view_box_block\" onclick=\"location.href='/store/books/look.php?p_code=B9718869266';\">\n",
       "            -->\n",
       "<span class=\"view_box_block\">\n",
       "<span class=\"img_hidden_a\">\n",
       "<span class=\"pop_quick_menu\">\n",
       "<a href=\"/store/books/look.php?p_code=B9718869266\"><img alt=\"상세보기\" src=\"https://www.hanbit.co.kr/images/common/icon_view_detail.png\"/></a>\n",
       "</span>\n",
       "<span class=\"price\">28,000<span>원</span></span>\n",
       "<span class=\"pop_quick_bg\" onclick=\"location='/store/books/look.php?p_code=B9718869266'\"></span>\n",
       "</span>\n",
       "<!-- 예약도서인 경우 -->\n",
       "<!-- ebook이 도서인 경우 -->\n",
       "<img alt=\"\" class=\"thumb\" src=\"/data/books/B9718869266_m.jpg\"/>\n",
       "</span>\n",
       "<div class=\"info\">\n",
       "<p class=\"book_tit\"><a href=\"/store/books/look.php?p_code=B9718869266\">IT CookBook, C 언어 일취월장(2판)</a></p>\n",
       "<p class=\"book_writer\">신윤환 </p>\n",
       "</div>\n",
       "</div>\n",
       "</li>"
      ]
     },
     "execution_count": 203,
     "metadata": {},
     "output_type": "execute_result"
    }
   ],
   "source": [
    "lis[15]"
   ]
  },
  {
   "cell_type": "code",
   "execution_count": 204,
   "metadata": {},
   "outputs": [],
   "source": [
    "href = lis[15].find('a')['href']\n",
    "res = requests.get(base_url + href)\n",
    "book_soup = BeautifulSoup(res.text, 'html.parser')"
   ]
  },
  {
   "cell_type": "code",
   "execution_count": 205,
   "metadata": {},
   "outputs": [
    {
     "data": {
      "text/plain": [
       "{'저자': '앤드루 호프먼',\n",
       " '번역': '최용',\n",
       " '출간': '2021-02-19',\n",
       " '페이지': '372 쪽',\n",
       " 'ISBN': '9791162243930',\n",
       " '물류코드': '10393'}"
      ]
     },
     "execution_count": 205,
     "metadata": {},
     "output_type": "execute_result"
    }
   ],
   "source": [
    "book_lis = info.select('.info_list > li')\n",
    "book_dict = {}\n",
    "for li in book_lis:\n",
    "    items = li.get_text().split(':')\n",
    "    book_dict[items[0].strip()] = items[1].strip()\n",
    "    \n",
    "book_dict"
   ]
  },
  {
   "cell_type": "code",
   "execution_count": 206,
   "metadata": {},
   "outputs": [
    {
     "data": {
      "application/vnd.jupyter.widget-view+json": {
       "model_id": "03ea5f9a72c843fa9bbe0025e05e2d86",
       "version_major": 2,
       "version_minor": 0
      },
      "text/plain": [
       "  0%|          | 0/10 [00:00<?, ?it/s]"
      ]
     },
     "metadata": {},
     "output_type": "display_data"
    }
   ],
   "source": [
    "lines = []\n",
    "for page in tqdm(range(1,11)):\n",
    "    url = f'{base_url}{sub_url}?page={page}'\n",
    "    res = requests.get(url)\n",
    "    soup = BeautifulSoup(res.text, 'html.parser')\n",
    "    lis = soup.select('.sub_book_list')\n",
    "    \n",
    "    for li in lis:\n",
    "        book_url = li.find('a')['href']\n",
    "        res = requests.get(base_url + book_url)\n",
    "        book_soup = BeautifulSoup(res.text, 'html.parser')\n",
    "\n",
    "        info = book_soup.select_one('.store_product_info_box')\n",
    "        title = info.find('h3').string\n",
    "        book_lis = info.select('.info_list > li')\n",
    "        book_dict = {}\n",
    "        for li in book_lis:\n",
    "            items = li.get_text().split(':')\n",
    "            book_dict[items[0].strip()] = items[1].strip()\n",
    "        author = book_dict['저자']\n",
    "        translator = book_dict['번역'] if '번역' in book_dict.keys() else '-' \n",
    "        date = book_dict['출간']\n",
    "        page = book_dict['페이지'].split()[0]\n",
    "        \n",
    "        payments = book_soup.select_one('.payment_box.curr').find_all('p')\n",
    "        price = payments[0].select_one('.pbr').get_text().strip()\n",
    "        sales = payments[1].select_one('.pbr').get_text().split('(')[0]\n",
    "        mileage = payments[2].select_one('.pbr').get_text().split()[0]\n",
    "\n",
    "        lines.append([title,author,translator,date,int(page),\n",
    "                      convert_unit(price),convert_unit(sales),convert_unit(mileage)])"
   ]
  },
  {
   "cell_type": "code",
   "execution_count": 207,
   "metadata": {},
   "outputs": [
    {
     "data": {
      "text/html": [
       "<div>\n",
       "<style scoped>\n",
       "    .dataframe tbody tr th:only-of-type {\n",
       "        vertical-align: middle;\n",
       "    }\n",
       "\n",
       "    .dataframe tbody tr th {\n",
       "        vertical-align: top;\n",
       "    }\n",
       "\n",
       "    .dataframe thead th {\n",
       "        text-align: right;\n",
       "    }\n",
       "</style>\n",
       "<table border=\"1\" class=\"dataframe\">\n",
       "  <thead>\n",
       "    <tr style=\"text-align: right;\">\n",
       "      <th></th>\n",
       "      <th>제목</th>\n",
       "      <th>저자</th>\n",
       "      <th>번역</th>\n",
       "      <th>출간일</th>\n",
       "      <th>페이지</th>\n",
       "      <th>정가</th>\n",
       "      <th>판매가</th>\n",
       "      <th>마일리지</th>\n",
       "    </tr>\n",
       "  </thead>\n",
       "  <tbody>\n",
       "    <tr>\n",
       "      <th>195</th>\n",
       "      <td>IT CookBook, C 언어 일취월장(2판)</td>\n",
       "      <td>신윤환</td>\n",
       "      <td>-</td>\n",
       "      <td>2021-02-24</td>\n",
       "      <td>800</td>\n",
       "      <td>28,000</td>\n",
       "      <td>28,000</td>\n",
       "      <td>840</td>\n",
       "    </tr>\n",
       "    <tr>\n",
       "      <th>196</th>\n",
       "      <td>소비자행동</td>\n",
       "      <td>김학윤</td>\n",
       "      <td>-</td>\n",
       "      <td>2021-02-23</td>\n",
       "      <td>660</td>\n",
       "      <td>35,000</td>\n",
       "      <td>35,000</td>\n",
       "      <td>1,050</td>\n",
       "    </tr>\n",
       "    <tr>\n",
       "      <th>197</th>\n",
       "      <td>재미있고 빠른 어휘력 동화 – 두근두근 이 마음은 뭘까</td>\n",
       "      <td>김세실 , 김도윤(그림)</td>\n",
       "      <td>-</td>\n",
       "      <td>2021-02-20</td>\n",
       "      <td>104</td>\n",
       "      <td>12,000</td>\n",
       "      <td>10,800</td>\n",
       "      <td>600</td>\n",
       "    </tr>\n",
       "    <tr>\n",
       "      <th>198</th>\n",
       "      <td>재미있고 빠른 어휘력 동화 – 키득키득 재밌는 의성어 의태어</td>\n",
       "      <td>김예실 , 김희선(그림)</td>\n",
       "      <td>-</td>\n",
       "      <td>2021-02-20</td>\n",
       "      <td>104</td>\n",
       "      <td>12,000</td>\n",
       "      <td>10,800</td>\n",
       "      <td>600</td>\n",
       "    </tr>\n",
       "    <tr>\n",
       "      <th>199</th>\n",
       "      <td>웹 애플리케이션 보안</td>\n",
       "      <td>앤드루 호프먼</td>\n",
       "      <td>최용</td>\n",
       "      <td>2021-02-19</td>\n",
       "      <td>372</td>\n",
       "      <td>30,000</td>\n",
       "      <td>27,000</td>\n",
       "      <td>1,500</td>\n",
       "    </tr>\n",
       "  </tbody>\n",
       "</table>\n",
       "</div>"
      ],
      "text/plain": [
       "                                    제목             저자  번역         출간일  페이지  \\\n",
       "195         IT CookBook, C 언어 일취월장(2판)            신윤환   -  2021-02-24  800   \n",
       "196                              소비자행동            김학윤   -  2021-02-23  660   \n",
       "197     재미있고 빠른 어휘력 동화 – 두근두근 이 마음은 뭘까  김세실 , 김도윤(그림)   -  2021-02-20  104   \n",
       "198  재미있고 빠른 어휘력 동화 – 키득키득 재밌는 의성어 의태어  김예실 , 김희선(그림)   -  2021-02-20  104   \n",
       "199                        웹 애플리케이션 보안        앤드루 호프먼  최용  2021-02-19  372   \n",
       "\n",
       "         정가     판매가   마일리지  \n",
       "195  28,000  28,000    840  \n",
       "196  35,000  35,000  1,050  \n",
       "197  12,000  10,800    600  \n",
       "198  12,000  10,800    600  \n",
       "199  30,000  27,000  1,500  "
      ]
     },
     "execution_count": 207,
     "metadata": {},
     "output_type": "execute_result"
    }
   ],
   "source": [
    "df = pd.DataFrame(lines, columns=['제목','저자','번역','출간일','페이지','정가','판매가','마일리지'])\n",
    "df.tail()"
   ]
  },
  {
   "cell_type": "code",
   "execution_count": 208,
   "metadata": {},
   "outputs": [],
   "source": [
    "df.to_csv('한빛도서.csv', index=False)"
   ]
  },
  {
   "cell_type": "code",
   "execution_count": null,
   "metadata": {},
   "outputs": [],
   "source": []
  }
 ],
 "metadata": {
  "interpreter": {
   "hash": "72d8290bce898e2123793bdcf5016b68a0411406de21a03f1958d3a075c7de15"
  },
  "kernelspec": {
   "display_name": "Python 3.8.8 64-bit ('base': conda)",
   "language": "python",
   "name": "python3"
  },
  "language_info": {
   "codemirror_mode": {
    "name": "ipython",
    "version": 3
   },
   "file_extension": ".py",
   "mimetype": "text/x-python",
   "name": "python",
   "nbconvert_exporter": "python",
   "pygments_lexer": "ipython3",
   "version": "3.8.8"
  },
  "orig_nbformat": 4
 },
 "nbformat": 4,
 "nbformat_minor": 2
}
