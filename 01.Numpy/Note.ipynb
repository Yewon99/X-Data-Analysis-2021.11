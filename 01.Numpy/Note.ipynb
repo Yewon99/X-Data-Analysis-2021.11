{
 "cells": [
  {
   "cell_type": "markdown",
   "metadata": {},
   "source": []
  },
  {
   "cell_type": "code",
   "execution_count": null,
   "metadata": {},
   "outputs": [],
   "source": [
    "# np.random.rand(n) <- np.random.uniform(0,1,s)\n",
    "# np.random.randn(n) np.random.normal(m,s,n) (0,1,n)\n",
    "# np.random.randint(시작, 끝, 갯수) [시작, 끝]"
   ]
  }
 ],
 "metadata": {
  "language_info": {
   "name": "python"
  },
  "orig_nbformat": 4
 },
 "nbformat": 4,
 "nbformat_minor": 2
}
