{
 "cells": [
  {
   "cell_type": "code",
   "execution_count": 7,
   "metadata": {},
   "outputs": [],
   "source": [
    "from selenium import webdriver\n",
    "from bs4 import BeautifulSoup\n",
    "import time\n",
    "import pandas as pd\n",
    "from urllib.parse import quote"
   ]
  },
  {
   "cell_type": "code",
   "execution_count": 8,
   "metadata": {},
   "outputs": [],
   "source": [
    "import unicodedata, re\n",
    "from tqdm.notebook import tqdm"
   ]
  },
  {
   "cell_type": "code",
   "execution_count": 9,
   "metadata": {},
   "outputs": [],
   "source": [
    "insta_url = 'https://www.instagram.com'\n",
    "driver = webdriver.Chrome('chromedriver.exe')\n",
    "driver.get(insta_url)\n",
    "time.sleep(1)"
   ]
  },
  {
   "cell_type": "code",
   "execution_count": 10,
   "metadata": {},
   "outputs": [],
   "source": [
    "with open('insta.txt') as f:\n",
    "    password = f.read()"
   ]
  },
  {
   "cell_type": "markdown",
   "metadata": {},
   "source": [
    "### 1. 로그인하기"
   ]
  },
  {
   "cell_type": "code",
   "execution_count": 11,
   "metadata": {},
   "outputs": [],
   "source": [
    "email = 'yyewon99@gmail.com'\n",
    "input_email = driver.find_element_by_css_selector('._2hvTZ.pexuQ.zyHYP')\n",
    "input_email.clear()\n",
    "input_email.send_keys(email)"
   ]
  },
  {
   "cell_type": "code",
   "execution_count": 12,
   "metadata": {},
   "outputs": [],
   "source": [
    "input_pwd = driver.find_element_by_name('password')\n",
    "input_pwd.clear()\n",
    "input_pwd.send_keys(password)"
   ]
  },
  {
   "cell_type": "code",
   "execution_count": 13,
   "metadata": {},
   "outputs": [],
   "source": [
    "input_pwd.submit()\n",
    "time.sleep(1)"
   ]
  },
  {
   "cell_type": "code",
   "execution_count": 14,
   "metadata": {},
   "outputs": [],
   "source": [
    "# 로그인 정보 저장 - 나중에 하기\n",
    "try:\n",
    "    driver.find_element_by_css_selector('.sqdOP.yWX7d.y3zKF').click()\n",
    "    time.sleep(1)\n",
    "except:\n",
    "    pass"
   ]
  },
  {
   "cell_type": "code",
   "execution_count": 15,
   "metadata": {},
   "outputs": [],
   "source": [
    "# 알림 설정 - 나중에 하기\n",
    "try:\n",
    "    driver.find_element_by_css_selector('.aOOlW.HoLwm').click()\n",
    "    time.sleep(1)\n",
    "except:\n",
    "    pass"
   ]
  },
  {
   "cell_type": "markdown",
   "metadata": {},
   "source": [
    "### 2. 제주맛집으로 검색"
   ]
  },
  {
   "cell_type": "code",
   "execution_count": 16,
   "metadata": {},
   "outputs": [
    {
     "data": {
      "text/plain": [
       "'https://www.instagram.com/explore/tags/%EC%A0%9C%EC%A3%BC%EB%A7%9B%EC%A7%91'"
      ]
     },
     "execution_count": 16,
     "metadata": {},
     "output_type": "execute_result"
    }
   ],
   "source": [
    "keyword = '제주맛집'\n",
    "search_url = 'https://www.instagram.com/explore/tags/'\n",
    "url = f'{search_url}{quote(keyword)}'\n",
    "url"
   ]
  },
  {
   "cell_type": "code",
   "execution_count": 17,
   "metadata": {},
   "outputs": [],
   "source": [
    "driver.get(url)\n",
    "time.sleep(5)"
   ]
  },
  {
   "cell_type": "markdown",
   "metadata": {},
   "source": [
    "### 3. 첫번째 게시글"
   ]
  },
  {
   "cell_type": "code",
   "execution_count": 18,
   "metadata": {},
   "outputs": [],
   "source": [
    "driver.find_element_by_css_selector('div._9AhH0').click()\n",
    "time.sleep(1)"
   ]
  },
  {
   "cell_type": "code",
   "execution_count": 19,
   "metadata": {},
   "outputs": [],
   "source": [
    "html = driver.page_source\n",
    "soup = BeautifulSoup(html, 'html.parser')"
   ]
  },
  {
   "cell_type": "code",
   "execution_count": 20,
   "metadata": {},
   "outputs": [
    {
     "data": {
      "text/plain": [
       "'#제주맛집산도롱맨도롱----------🍜갈비국수 대표맛집 🍜📌 산도롱의 대표메뉴 홍갈비국수와 백갈비국수 💕📌 진하게 우려낸 사골육수로 더욱 담백하게 ~!!!📌 제주의 신선한 문어가 풍덩~! 톳문어전 🥰..#성산일출봉맛집.대기시간이 비교적 없는 아침타임!성산일출봉을 다녀온후 아침드시기 좋습니다😙.산도롱맨도롱영업시간:07:00~17:00✔매주 화요일은 휴무입니다✔문의 : 064-782-5105.#제주도고기국수#광치기해변맛집#제주돔베고기#제주도점심#성산일출봉근처#성산일출봉아침식사'"
      ]
     },
     "execution_count": 20,
     "metadata": {},
     "output_type": "execute_result"
    }
   ],
   "source": [
    "# 1) 본문 내용 가져오기\n",
    "\n",
    "try:\n",
    "    content = soup.select_one('div.C4VMK > span').text\n",
    "    content = unicodedata.normalize('NFC', content)\n",
    "except:\n",
    "    content = ' '\n",
    "content"
   ]
  },
  {
   "cell_type": "code",
   "execution_count": 21,
   "metadata": {},
   "outputs": [
    {
     "data": {
      "text/plain": [
       "['#제주맛집산도롱맨도롱----------🍜갈비국수',\n",
       " '#성산일출봉맛집.대기시간이',\n",
       " '#제주도고기국수',\n",
       " '#광치기해변맛집',\n",
       " '#제주돔베고기',\n",
       " '#제주도점심',\n",
       " '#성산일출봉근처',\n",
       " '#성산일출봉아침식사']"
      ]
     },
     "execution_count": 21,
     "metadata": {},
     "output_type": "execute_result"
    }
   ],
   "source": [
    "# 2) 본문 내용에서 해쉬태그 가져오기, '#[^\\s#,\\\\]+'\n",
    "tags = re.findall(r'#[^\\s#,\\\\]+', content)\n",
    "tags"
   ]
  },
  {
   "cell_type": "code",
   "execution_count": 22,
   "metadata": {},
   "outputs": [
    {
     "data": {
      "text/plain": [
       "'2021-12-08'"
      ]
     },
     "execution_count": 22,
     "metadata": {},
     "output_type": "execute_result"
    }
   ],
   "source": [
    "# 3) 작성일자 정보 가져오기\n",
    "date = soup.select_one('time.FH9sR.Nzb55')['datetime'][:10]\n",
    "date"
   ]
  },
  {
   "cell_type": "code",
   "execution_count": 24,
   "metadata": {},
   "outputs": [
    {
     "data": {
      "text/plain": [
       "0"
      ]
     },
     "execution_count": 24,
     "metadata": {},
     "output_type": "execute_result"
    }
   ],
   "source": [
    "# 4) 좋아요 수 가져오기\n",
    "try:\n",
    "    like = soup.select_one('div.Nm9Fw').text[4:-1]\n",
    "except:\n",
    "    like = 0\n",
    "like"
   ]
  },
  {
   "cell_type": "code",
   "execution_count": 25,
   "metadata": {},
   "outputs": [
    {
     "data": {
      "text/plain": [
       "'산도롱맨도롱'"
      ]
     },
     "execution_count": 25,
     "metadata": {},
     "output_type": "execute_result"
    }
   ],
   "source": [
    "# 5) 위치정보 가져오기\n",
    "try:\n",
    "    place = soup.select('div.M30cS')[0].text\n",
    "    place = unicodedata.normalize('NFC', place)\n",
    "except:\n",
    "    place = ''\n",
    "place"
   ]
  },
  {
   "cell_type": "code",
   "execution_count": 28,
   "metadata": {},
   "outputs": [],
   "source": [
    "row = [content, date, like, place, tags]"
   ]
  },
  {
   "cell_type": "markdown",
   "metadata": {},
   "source": [
    "### 4. 다음 게시글로 이동"
   ]
  },
  {
   "cell_type": "code",
   "execution_count": 26,
   "metadata": {},
   "outputs": [],
   "source": [
    "# 첫 번째 게시글로 부터 두 번째 글로 이동\n",
    "driver.find_element_by_xpath('/html/body/div[6]/div[1]/div/div/div/button/div').click()\n",
    "time.sleep(2)"
   ]
  },
  {
   "cell_type": "code",
   "execution_count": 27,
   "metadata": {},
   "outputs": [],
   "source": [
    "# 두 번째 게시글부터 다음글로 이동\n",
    "driver.find_element_by_xpath('/html/body/div[6]/div[1]/div/div/div[2]/button/div').click()\n",
    "time.sleep(2)"
   ]
  },
  {
   "cell_type": "code",
   "execution_count": 29,
   "metadata": {},
   "outputs": [],
   "source": [
    "# 5)을 하기 위해 popup 화면을 없앰(즉, X 를 클릭)\n",
    "driver.find_element_by_xpath('/html/body/div[6]/div[3]/button').click()"
   ]
  },
  {
   "cell_type": "markdown",
   "metadata": {},
   "source": [
    "### 5. 반복문으로 데이터 가져오기"
   ]
  },
  {
   "cell_type": "code",
   "execution_count": 30,
   "metadata": {},
   "outputs": [],
   "source": [
    "def get_content(driver):\n",
    "    html = driver.page_source\n",
    "    soup = BeautifulSoup(html, 'html.parser')\n",
    "    \n",
    "    try:\n",
    "        content = soup.select_one('div.C4VMK > span').text\n",
    "        content = unicodedata.normalize('NFC', content)\n",
    "    except:\n",
    "        content = ' '\n",
    "    tags = re.findall(r'#[^\\s#,\\\\]+', content)\n",
    "    date = soup.select_one('time.FH9sR.Nzb55')['datetime'][:10]\n",
    "\n",
    "    try:\n",
    "        like = soup.select_one('div.Nm9Fw').text[4:-1]\n",
    "    except:\n",
    "        like = 0\n",
    "    try:\n",
    "        place = soup.select('div.M30cS')[0].text\n",
    "        place = unicodedata.normalize('NFC', place)\n",
    "    except:\n",
    "        place = ''\n",
    "\n",
    "    return [content, date, like, place, tags]"
   ]
  },
  {
   "cell_type": "code",
   "execution_count": 31,
   "metadata": {},
   "outputs": [],
   "source": [
    "driver.find_element_by_css_selector('div._9AhH0').click()\n",
    "time.sleep(1)"
   ]
  },
  {
   "cell_type": "code",
   "execution_count": 33,
   "metadata": {},
   "outputs": [
    {
     "data": {
      "application/vnd.jupyter.widget-view+json": {
       "model_id": "bc00d9d6d0434dfa907d876e25e92304",
       "version_major": 2,
       "version_minor": 0
      },
      "text/plain": [
       "  0%|          | 0/200 [00:00<?, ?it/s]"
      ]
     },
     "metadata": {},
     "output_type": "display_data"
    }
   ],
   "source": [
    "results = []\n",
    "for _ in tqdm(range(200)):\n",
    "    try:\n",
    "        row = get_content(driver)\n",
    "        results.append(row)\n",
    "        driver.find_element_by_xpath('/html/body/div[6]/div[1]/div/div/div[2]/button/div').click()\n",
    "        time.sleep(3)\n",
    "    except:\n",
    "        time.sleep(3)\n",
    "        driver.find_element_by_xpath('/html/body/div[6]/div[1]/div/div/div/button/div').click()\n",
    "        time.sleep(3)"
   ]
  },
  {
   "cell_type": "code",
   "execution_count": 34,
   "metadata": {},
   "outputs": [],
   "source": [
    "driver.close()"
   ]
  },
  {
   "cell_type": "markdown",
   "metadata": {},
   "source": [
    "### 6. 데이터프레임으로 만들고 중복 제거"
   ]
  },
  {
   "cell_type": "code",
   "execution_count": 35,
   "metadata": {},
   "outputs": [
    {
     "data": {
      "text/html": [
       "<div>\n",
       "<style scoped>\n",
       "    .dataframe tbody tr th:only-of-type {\n",
       "        vertical-align: middle;\n",
       "    }\n",
       "\n",
       "    .dataframe tbody tr th {\n",
       "        vertical-align: top;\n",
       "    }\n",
       "\n",
       "    .dataframe thead th {\n",
       "        text-align: right;\n",
       "    }\n",
       "</style>\n",
       "<table border=\"1\" class=\"dataframe\">\n",
       "  <thead>\n",
       "    <tr style=\"text-align: right;\">\n",
       "      <th></th>\n",
       "      <th>content</th>\n",
       "      <th>date</th>\n",
       "      <th>like</th>\n",
       "      <th>place</th>\n",
       "      <th>tags</th>\n",
       "    </tr>\n",
       "  </thead>\n",
       "  <tbody>\n",
       "    <tr>\n",
       "      <th>0</th>\n",
       "      <td>도너츄 먹고싶다 🤤🍩</td>\n",
       "      <td>2021-12-07</td>\n",
       "      <td>121</td>\n",
       "      <td>카페 노티드 제주 애월 - Cafe Knotted Jeju Aewol</td>\n",
       "      <td>[]</td>\n",
       "    </tr>\n",
       "    <tr>\n",
       "      <th>1</th>\n",
       "      <td>#그루브제주 @groov.jeju 🗺 제주시 한림읍 한림로 333 (협재)⏰ 10:...</td>\n",
       "      <td>2021-12-07</td>\n",
       "      <td>mpany_님 여러 명이 좋아합니</td>\n",
       "      <td>GROOV JEJU</td>\n",
       "      <td>[#그루브제주]</td>\n",
       "    </tr>\n",
       "    <tr>\n",
       "      <th>2</th>\n",
       "      <td>#그랜드조선#제주#힐링#힐링은휴식#먹스타그램#중문맛집#갈치조림#갈치튀김#갈치구이#해...</td>\n",
       "      <td>2021-12-08</td>\n",
       "      <td>34</td>\n",
       "      <td>그랜드조선 제주</td>\n",
       "      <td>[#그랜드조선, #제주, #힐링, #힐링은휴식, #먹스타그램, #중문맛집, #갈치조...</td>\n",
       "    </tr>\n",
       "    <tr>\n",
       "      <th>3</th>\n",
       "      <td>애월 로드129성게크림파스타흑돼지 멘치카츠흑돼지 치즈돈까스흑돼지 고구마치즈돈까스흑돼...</td>\n",
       "      <td>2021-12-08</td>\n",
       "      <td>저 좋아요를 눌러보세</td>\n",
       "      <td></td>\n",
       "      <td>[#애월맛집, #제주맛집, #애월읍맛집, #애월항맛집, #제주애월점심, #애월맛집추...</td>\n",
       "    </tr>\n",
       "    <tr>\n",
       "      <th>4</th>\n",
       "      <td>애월 로드129성게크림파스타흑돼지 멘치카츠흑돼지 치즈돈까스흑돼지 고구마치즈돈까스흑돼...</td>\n",
       "      <td>2021-12-08</td>\n",
       "      <td>저 좋아요를 눌러보세</td>\n",
       "      <td></td>\n",
       "      <td>[#애월맛집, #제주맛집, #애월읍맛집, #애월항맛집, #제주애월점심, #애월맛집추...</td>\n",
       "    </tr>\n",
       "  </tbody>\n",
       "</table>\n",
       "</div>"
      ],
      "text/plain": [
       "                                             content        date  \\\n",
       "0                                        도너츄 먹고싶다 🤤🍩  2021-12-07   \n",
       "1  #그루브제주 @groov.jeju 🗺 제주시 한림읍 한림로 333 (협재)⏰ 10:...  2021-12-07   \n",
       "2  #그랜드조선#제주#힐링#힐링은휴식#먹스타그램#중문맛집#갈치조림#갈치튀김#갈치구이#해...  2021-12-08   \n",
       "3  애월 로드129성게크림파스타흑돼지 멘치카츠흑돼지 치즈돈까스흑돼지 고구마치즈돈까스흑돼...  2021-12-08   \n",
       "4  애월 로드129성게크림파스타흑돼지 멘치카츠흑돼지 치즈돈까스흑돼지 고구마치즈돈까스흑돼...  2021-12-08   \n",
       "\n",
       "                 like                                   place  \\\n",
       "0                 121  카페 노티드 제주 애월 - Cafe Knotted Jeju Aewol   \n",
       "1  mpany_님 여러 명이 좋아합니                              GROOV JEJU   \n",
       "2                  34                                그랜드조선 제주   \n",
       "3         저 좋아요를 눌러보세                                           \n",
       "4         저 좋아요를 눌러보세                                           \n",
       "\n",
       "                                                tags  \n",
       "0                                                 []  \n",
       "1                                           [#그루브제주]  \n",
       "2  [#그랜드조선, #제주, #힐링, #힐링은휴식, #먹스타그램, #중문맛집, #갈치조...  \n",
       "3  [#애월맛집, #제주맛집, #애월읍맛집, #애월항맛집, #제주애월점심, #애월맛집추...  \n",
       "4  [#애월맛집, #제주맛집, #애월읍맛집, #애월항맛집, #제주애월점심, #애월맛집추...  "
      ]
     },
     "execution_count": 35,
     "metadata": {},
     "output_type": "execute_result"
    }
   ],
   "source": [
    "df = pd.DataFrame(results, columns=['content','date','like','place','tags'])\n",
    "df.head()"
   ]
  },
  {
   "cell_type": "code",
   "execution_count": 36,
   "metadata": {},
   "outputs": [
    {
     "data": {
      "text/plain": [
       "(152, 5)"
      ]
     },
     "execution_count": 36,
     "metadata": {},
     "output_type": "execute_result"
    }
   ],
   "source": [
    "df.drop_duplicates(subset='content', keep='first', inplace=True)\n",
    "df.shape"
   ]
  },
  {
   "cell_type": "code",
   "execution_count": 38,
   "metadata": {},
   "outputs": [
    {
     "data": {
      "text/html": [
       "<div>\n",
       "<style scoped>\n",
       "    .dataframe tbody tr th:only-of-type {\n",
       "        vertical-align: middle;\n",
       "    }\n",
       "\n",
       "    .dataframe tbody tr th {\n",
       "        vertical-align: top;\n",
       "    }\n",
       "\n",
       "    .dataframe thead th {\n",
       "        text-align: right;\n",
       "    }\n",
       "</style>\n",
       "<table border=\"1\" class=\"dataframe\">\n",
       "  <thead>\n",
       "    <tr style=\"text-align: right;\">\n",
       "      <th></th>\n",
       "      <th>place</th>\n",
       "    </tr>\n",
       "  </thead>\n",
       "  <tbody>\n",
       "    <tr>\n",
       "      <th></th>\n",
       "      <td>73</td>\n",
       "    </tr>\n",
       "    <tr>\n",
       "      <th>환상의 섬 Jeju Island</th>\n",
       "      <td>4</td>\n",
       "    </tr>\n",
       "    <tr>\n",
       "      <th>Jeju-do</th>\n",
       "      <td>3</td>\n",
       "    </tr>\n",
       "    <tr>\n",
       "      <th>문쏘</th>\n",
       "      <td>3</td>\n",
       "    </tr>\n",
       "    <tr>\n",
       "      <th>브라보비치-제주</th>\n",
       "      <td>2</td>\n",
       "    </tr>\n",
       "    <tr>\n",
       "      <th>...</th>\n",
       "      <td>...</td>\n",
       "    </tr>\n",
       "    <tr>\n",
       "      <th>깡촌흑돼지</th>\n",
       "      <td>1</td>\n",
       "    </tr>\n",
       "    <tr>\n",
       "      <th>Road129</th>\n",
       "      <td>1</td>\n",
       "    </tr>\n",
       "    <tr>\n",
       "      <th>GROOV JEJU</th>\n",
       "      <td>1</td>\n",
       "    </tr>\n",
       "    <tr>\n",
       "      <th>쌩텀펜션</th>\n",
       "      <td>1</td>\n",
       "    </tr>\n",
       "    <tr>\n",
       "      <th>Cafe Re’union_리유니온:재회</th>\n",
       "      <td>1</td>\n",
       "    </tr>\n",
       "  </tbody>\n",
       "</table>\n",
       "<p>68 rows × 1 columns</p>\n",
       "</div>"
      ],
      "text/plain": [
       "                       place\n",
       "                          73\n",
       "환상의 섬 Jeju Island          4\n",
       "Jeju-do                    3\n",
       "문쏘                         3\n",
       "브라보비치-제주                   2\n",
       "...                      ...\n",
       "깡촌흑돼지                      1\n",
       "Road129                    1\n",
       "GROOV JEJU                 1\n",
       "쌩텀펜션                       1\n",
       "Cafe Re’union_리유니온:재회      1\n",
       "\n",
       "[68 rows x 1 columns]"
      ]
     },
     "execution_count": 38,
     "metadata": {},
     "output_type": "execute_result"
    }
   ],
   "source": [
    "df.place.value_counts().to_frame()"
   ]
  },
  {
   "cell_type": "code",
   "execution_count": 39,
   "metadata": {},
   "outputs": [],
   "source": [
    "import requests\n",
    "from urllib.parse import quote\n",
    "import pandas as pd"
   ]
  },
  {
   "cell_type": "code",
   "execution_count": 42,
   "metadata": {},
   "outputs": [],
   "source": [
    "with open('roadapikey.txt') as file:\n",
    "    road_key = file.read()"
   ]
  },
  {
   "cell_type": "code",
   "execution_count": 43,
   "metadata": {},
   "outputs": [
    {
     "data": {
      "text/plain": [
       "'%EA%B7%B8%EB%9E%9C%EB%93%9C%EC%A1%B0%EC%84%A0%20%EC%A0%9C%EC%A3%BC'"
      ]
     },
     "execution_count": 43,
     "metadata": {},
     "output_type": "execute_result"
    }
   ],
   "source": [
    "quote('그랜드조선 제주')"
   ]
  },
  {
   "cell_type": "code",
   "execution_count": 44,
   "metadata": {},
   "outputs": [],
   "source": [
    "road_url = 'https://www.juso.go.kr/addrlink/addrLinkApi.do' \n",
    "params1 = f'confmKey={road_key}&currentPage=1&countPerPage=10'\n",
    "params2 = f'keyword={quote(\"그랜드조선 제주\")}&resultType=json'\n",
    "url = f\"{road_url}?{params1}&{params2}\""
   ]
  },
  {
   "cell_type": "code",
   "execution_count": 45,
   "metadata": {},
   "outputs": [
    {
     "data": {
      "text/plain": [
       "{'results': {'common': {'errorMessage': '정상',\n",
       "   'countPerPage': '10',\n",
       "   'totalCount': '0',\n",
       "   'errorCode': '0',\n",
       "   'currentPage': '1'},\n",
       "  'juso': []}}"
      ]
     },
     "execution_count": 45,
     "metadata": {},
     "output_type": "execute_result"
    }
   ],
   "source": [
    "result = requests.get(url).json()\n",
    "result"
   ]
  },
  {
   "cell_type": "code",
   "execution_count": 46,
   "metadata": {},
   "outputs": [
    {
     "ename": "IndexError",
     "evalue": "list index out of range",
     "output_type": "error",
     "traceback": [
      "\u001b[1;31m---------------------------------------------------------------------------\u001b[0m",
      "\u001b[1;31mIndexError\u001b[0m                                Traceback (most recent call last)",
      "\u001b[1;32m<ipython-input-46-b73887544ac3>\u001b[0m in \u001b[0;36m<module>\u001b[1;34m\u001b[0m\n\u001b[1;32m----> 1\u001b[1;33m \u001b[0mresult\u001b[0m\u001b[1;33m[\u001b[0m\u001b[1;34m'results'\u001b[0m\u001b[1;33m]\u001b[0m\u001b[1;33m[\u001b[0m\u001b[1;34m'juso'\u001b[0m\u001b[1;33m]\u001b[0m\u001b[1;33m[\u001b[0m\u001b[1;36m0\u001b[0m\u001b[1;33m]\u001b[0m\u001b[1;33m[\u001b[0m\u001b[1;34m'roadAddr'\u001b[0m\u001b[1;33m]\u001b[0m\u001b[1;33m\u001b[0m\u001b[1;33m\u001b[0m\u001b[0m\n\u001b[0m",
      "\u001b[1;31mIndexError\u001b[0m: list index out of range"
     ]
    }
   ],
   "source": [
    "result['results']['juso'][0]['roadAddr']"
   ]
  },
  {
   "cell_type": "code",
   "execution_count": null,
   "metadata": {},
   "outputs": [],
   "source": []
  }
 ],
 "metadata": {
  "interpreter": {
   "hash": "72d8290bce898e2123793bdcf5016b68a0411406de21a03f1958d3a075c7de15"
  },
  "kernelspec": {
   "display_name": "Python 3.8.8 64-bit ('base': conda)",
   "language": "python",
   "name": "python3"
  },
  "language_info": {
   "codemirror_mode": {
    "name": "ipython",
    "version": 3
   },
   "file_extension": ".py",
   "mimetype": "text/x-python",
   "name": "python",
   "nbconvert_exporter": "python",
   "pygments_lexer": "ipython3",
   "version": "3.8.8"
  },
  "orig_nbformat": 4
 },
 "nbformat": 4,
 "nbformat_minor": 2
}
