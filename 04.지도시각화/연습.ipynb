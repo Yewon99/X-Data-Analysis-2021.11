{
 "cells": [
  {
   "cell_type": "markdown",
   "metadata": {},
   "source": [
    "# 가고 싶은 전국 명소 - w/ 민정"
   ]
  },
  {
   "cell_type": "markdown",
   "metadata": {},
   "source": []
  },
  {
   "cell_type": "markdown",
   "metadata": {},
   "source": [
    "인천국제공항\n",
    "한강공원\n",
    "신선대\n",
    "강원랜드\n",
    "평창휘닉스\n",
    "전주한옥마을\n",
    "예술의전당\n",
    "롯데월드\n",
    "호미곶\n",
    "휘닉스아일랜드"
   ]
  },
  {
   "cell_type": "code",
   "execution_count": 61,
   "metadata": {},
   "outputs": [],
   "source": [
    "import requests\n",
    "from urllib.parse import quote\n",
    "import pandas as pd"
   ]
  },
  {
   "cell_type": "code",
   "execution_count": 62,
   "metadata": {},
   "outputs": [],
   "source": [
    "with open('roadapikey.txt') as file:\n",
    "    road_key = file.read()"
   ]
  },
  {
   "cell_type": "markdown",
   "metadata": {},
   "source": [
    "- 도로명 주소 불러오기"
   ]
  },
  {
   "cell_type": "code",
   "execution_count": 63,
   "metadata": {},
   "outputs": [
    {
     "data": {
      "text/plain": [
       "'%ED%95%9C%EA%B0%95%EA%B3%B5%EC%9B%90%EB%9A%9D%EC%84%AC'"
      ]
     },
     "execution_count": 63,
     "metadata": {},
     "output_type": "execute_result"
    }
   ],
   "source": [
    "quote('한강공원뚝섬')"
   ]
  },
  {
   "cell_type": "code",
   "execution_count": 64,
   "metadata": {},
   "outputs": [],
   "source": [
    "road_url = 'https://www.juso.go.kr/addrlink/addrLinkApi.do' \n",
    "params1 = f'confmKey={road_key}&currentPage=1&countPerPage=10'\n",
    "params2 = f'keyword={quote(\"한강공원뚝섬\")}&resultType=json'\n",
    "url = f\"{road_url}?{params1}&{params2}\""
   ]
  },
  {
   "cell_type": "code",
   "execution_count": 65,
   "metadata": {},
   "outputs": [
    {
     "data": {
      "text/plain": [
       "{'results': {'common': {'errorMessage': '정상',\n",
       "   'countPerPage': '10',\n",
       "   'totalCount': '1',\n",
       "   'errorCode': '0',\n",
       "   'currentPage': '1'},\n",
       "  'juso': [{'detBdNmList': '',\n",
       "    'engAddr': '2273, Gangbyeonbuk-ro, Gwangjin-gu, Seoul',\n",
       "    'rn': '강변북로',\n",
       "    'emdNm': '자양동',\n",
       "    'zipNo': '05097',\n",
       "    'roadAddrPart2': '(자양동)',\n",
       "    'emdNo': '01',\n",
       "    'sggNm': '광진구',\n",
       "    'jibunAddr': '서울특별시 광진구 자양동 427-1 한강공원뚝섬안내센터',\n",
       "    'siNm': '서울특별시',\n",
       "    'roadAddrPart1': '서울특별시 광진구 강변북로 2273',\n",
       "    'bdNm': '한강공원뚝섬안내센터',\n",
       "    'admCd': '1121510500',\n",
       "    'udrtYn': '0',\n",
       "    'lnbrMnnm': '427',\n",
       "    'roadAddr': '서울특별시 광진구 강변북로 2273(자양동)',\n",
       "    'lnbrSlno': '1',\n",
       "    'buldMnnm': '2273',\n",
       "    'bdKdcd': '0',\n",
       "    'liNm': '',\n",
       "    'rnMgtSn': '112153196001',\n",
       "    'mtYn': '0',\n",
       "    'bdMgtSn': '1121510500107040001026970',\n",
       "    'buldSlno': '0'}]}}"
      ]
     },
     "execution_count": 65,
     "metadata": {},
     "output_type": "execute_result"
    }
   ],
   "source": [
    "result = requests.get(url).json()\n",
    "result"
   ]
  },
  {
   "cell_type": "code",
   "execution_count": 66,
   "metadata": {},
   "outputs": [
    {
     "data": {
      "text/plain": [
       "'서울특별시 광진구 강변북로 2273(자양동)'"
      ]
     },
     "execution_count": 66,
     "metadata": {},
     "output_type": "execute_result"
    }
   ],
   "source": [
    "result['results']['juso'][0]['roadAddr']"
   ]
  },
  {
   "cell_type": "code",
   "execution_count": 69,
   "metadata": {},
   "outputs": [
    {
     "data": {
      "text/plain": [
       "['인천공항스카이',\n",
       " '한강공원뚝섬',\n",
       " '신선대',\n",
       " '정선강원랜드',\n",
       " '평창휘닉스',\n",
       " '전주한옥마을',\n",
       " '예술의전당',\n",
       " '롯데월드',\n",
       " '호미곶',\n",
       " '휘닉스아일랜드']"
      ]
     },
     "execution_count": 69,
     "metadata": {},
     "output_type": "execute_result"
    }
   ],
   "source": [
    "places = '인천공항스카이 한강공원뚝섬 신선대 정선강원랜드 평창휘닉스 전주한옥마을 예술의전당 롯데월드 호미곶 휘닉스아일랜드'.split()\n",
    "places"
   ]
  },
  {
   "cell_type": "code",
   "execution_count": 70,
   "metadata": {},
   "outputs": [],
   "source": [
    "addr_list = []\n",
    "for place in places:\n",
    "    url = f\"{road_url}?{params1}&keyword={quote(place)}&resultType=json\"\n",
    "    result = requests.get(url).json()\n",
    "    addr = result['results']['juso'][0]['roadAddr']\n",
    "    addr_list.append(addr)"
   ]
  },
  {
   "cell_type": "code",
   "execution_count": 71,
   "metadata": {},
   "outputs": [
    {
     "data": {
      "text/plain": [
       "['인천광역시 중구 공항로424번길 43(운서동)',\n",
       " '서울특별시 광진구 강변북로 2273(자양동)',\n",
       " '부산광역시 남구 북항로 97(감만동)',\n",
       " '강원도 정선군 고한읍 고한로 27',\n",
       " '강원도 평창군 봉평면 태기로 140',\n",
       " '전라북도 전주시 완산구 한지길 89(풍남동3가)',\n",
       " '서울특별시 서초구 남부순환로 2406(서초동)',\n",
       " '서울특별시 송파구 올림픽로 300(신천동)',\n",
       " '경상북도 포항시 남구 호미곶면 호미곶길 155-22',\n",
       " '제주특별자치도 서귀포시 성산읍 섭지코지로 107']"
      ]
     },
     "execution_count": 71,
     "metadata": {},
     "output_type": "execute_result"
    }
   ],
   "source": [
    "addr_list"
   ]
  },
  {
   "cell_type": "code",
   "execution_count": 72,
   "metadata": {},
   "outputs": [
    {
     "data": {
      "text/html": [
       "<div>\n",
       "<style scoped>\n",
       "    .dataframe tbody tr th:only-of-type {\n",
       "        vertical-align: middle;\n",
       "    }\n",
       "\n",
       "    .dataframe tbody tr th {\n",
       "        vertical-align: top;\n",
       "    }\n",
       "\n",
       "    .dataframe thead th {\n",
       "        text-align: right;\n",
       "    }\n",
       "</style>\n",
       "<table border=\"1\" class=\"dataframe\">\n",
       "  <thead>\n",
       "    <tr style=\"text-align: right;\">\n",
       "      <th></th>\n",
       "      <th>명소</th>\n",
       "      <th>도로명주소</th>\n",
       "    </tr>\n",
       "  </thead>\n",
       "  <tbody>\n",
       "    <tr>\n",
       "      <th>0</th>\n",
       "      <td>인천공항스카이</td>\n",
       "      <td>인천광역시 중구 공항로424번길 43(운서동)</td>\n",
       "    </tr>\n",
       "    <tr>\n",
       "      <th>1</th>\n",
       "      <td>한강공원뚝섬</td>\n",
       "      <td>서울특별시 광진구 강변북로 2273(자양동)</td>\n",
       "    </tr>\n",
       "    <tr>\n",
       "      <th>2</th>\n",
       "      <td>신선대</td>\n",
       "      <td>부산광역시 남구 북항로 97(감만동)</td>\n",
       "    </tr>\n",
       "    <tr>\n",
       "      <th>3</th>\n",
       "      <td>정선강원랜드</td>\n",
       "      <td>강원도 정선군 고한읍 고한로 27</td>\n",
       "    </tr>\n",
       "    <tr>\n",
       "      <th>4</th>\n",
       "      <td>평창휘닉스</td>\n",
       "      <td>강원도 평창군 봉평면 태기로 140</td>\n",
       "    </tr>\n",
       "    <tr>\n",
       "      <th>5</th>\n",
       "      <td>전주한옥마을</td>\n",
       "      <td>전라북도 전주시 완산구 한지길 89(풍남동3가)</td>\n",
       "    </tr>\n",
       "    <tr>\n",
       "      <th>6</th>\n",
       "      <td>예술의전당</td>\n",
       "      <td>서울특별시 서초구 남부순환로 2406(서초동)</td>\n",
       "    </tr>\n",
       "    <tr>\n",
       "      <th>7</th>\n",
       "      <td>롯데월드</td>\n",
       "      <td>서울특별시 송파구 올림픽로 300(신천동)</td>\n",
       "    </tr>\n",
       "    <tr>\n",
       "      <th>8</th>\n",
       "      <td>호미곶</td>\n",
       "      <td>경상북도 포항시 남구 호미곶면 호미곶길 155-22</td>\n",
       "    </tr>\n",
       "    <tr>\n",
       "      <th>9</th>\n",
       "      <td>휘닉스아일랜드</td>\n",
       "      <td>제주특별자치도 서귀포시 성산읍 섭지코지로 107</td>\n",
       "    </tr>\n",
       "  </tbody>\n",
       "</table>\n",
       "</div>"
      ],
      "text/plain": [
       "        명소                         도로명주소\n",
       "0  인천공항스카이     인천광역시 중구 공항로424번길 43(운서동)\n",
       "1   한강공원뚝섬      서울특별시 광진구 강변북로 2273(자양동)\n",
       "2      신선대          부산광역시 남구 북항로 97(감만동)\n",
       "3   정선강원랜드            강원도 정선군 고한읍 고한로 27\n",
       "4    평창휘닉스           강원도 평창군 봉평면 태기로 140\n",
       "5   전주한옥마을    전라북도 전주시 완산구 한지길 89(풍남동3가)\n",
       "6    예술의전당     서울특별시 서초구 남부순환로 2406(서초동)\n",
       "7     롯데월드       서울특별시 송파구 올림픽로 300(신천동)\n",
       "8      호미곶  경상북도 포항시 남구 호미곶면 호미곶길 155-22\n",
       "9  휘닉스아일랜드    제주특별자치도 서귀포시 성산읍 섭지코지로 107"
      ]
     },
     "execution_count": 72,
     "metadata": {},
     "output_type": "execute_result"
    }
   ],
   "source": [
    "import pandas as pd\n",
    "\n",
    "df = pd.DataFrame({'명소':places, '도로명주소':addr_list})\n",
    "df"
   ]
  },
  {
   "cell_type": "code",
   "execution_count": 76,
   "metadata": {},
   "outputs": [],
   "source": [
    "with open('kakaoapikey.txt') as file:\n",
    "    kakao_key = file.read()"
   ]
  },
  {
   "cell_type": "code",
   "execution_count": 77,
   "metadata": {},
   "outputs": [],
   "source": [
    "local_url = 'https://dapi.kakao.com/v2/local/search/address.json'\n",
    "addr = '서울특별시 영등포구 여의동로 330'\n",
    "url = f'{local_url}?query={quote(addr)}'"
   ]
  },
  {
   "cell_type": "code",
   "execution_count": 78,
   "metadata": {},
   "outputs": [],
   "source": [
    "# Header: \"Authorization: KakaoAK {REST_API_KEY}\"\n",
    "header = {\"Authorization\": f'KakaoAK {kakao_key}'}"
   ]
  },
  {
   "cell_type": "code",
   "execution_count": 79,
   "metadata": {},
   "outputs": [
    {
     "data": {
      "text/plain": [
       "{'documents': [{'address': {'address_name': '서울 영등포구 여의도동 8',\n",
       "    'b_code': '1156011000',\n",
       "    'h_code': '1156054000',\n",
       "    'main_address_no': '8',\n",
       "    'mountain_yn': 'N',\n",
       "    'region_1depth_name': '서울',\n",
       "    'region_2depth_name': '영등포구',\n",
       "    'region_3depth_h_name': '여의동',\n",
       "    'region_3depth_name': '여의도동',\n",
       "    'sub_address_no': '',\n",
       "    'x': '126.933595205135',\n",
       "    'y': '37.5263478340955'},\n",
       "   'address_name': '서울 영등포구 여의동로 330',\n",
       "   'address_type': 'ROAD_ADDR',\n",
       "   'road_address': {'address_name': '서울 영등포구 여의동로 330',\n",
       "    'building_name': '한강사업본부 여의도안내센터',\n",
       "    'main_building_no': '330',\n",
       "    'region_1depth_name': '서울',\n",
       "    'region_2depth_name': '영등포구',\n",
       "    'region_3depth_name': '여의도동',\n",
       "    'road_name': '여의동로',\n",
       "    'sub_building_no': '',\n",
       "    'underground_yn': 'N',\n",
       "    'x': '126.933595205135',\n",
       "    'y': '37.5263478340955',\n",
       "    'zone_no': '07337'},\n",
       "   'x': '126.933595205135',\n",
       "   'y': '37.5263478340955'}],\n",
       " 'meta': {'is_end': True, 'pageable_count': 1, 'total_count': 1}}"
      ]
     },
     "execution_count": 79,
     "metadata": {},
     "output_type": "execute_result"
    }
   ],
   "source": [
    "result = requests.get(url, headers=header).json()\n",
    "result"
   ]
  },
  {
   "cell_type": "code",
   "execution_count": 80,
   "metadata": {},
   "outputs": [
    {
     "data": {
      "text/plain": [
       "'서울 영등포구 여의동로 330'"
      ]
     },
     "execution_count": 80,
     "metadata": {},
     "output_type": "execute_result"
    }
   ],
   "source": [
    "result['documents'][0]['road_address']['address_name']"
   ]
  },
  {
   "cell_type": "code",
   "execution_count": 81,
   "metadata": {},
   "outputs": [
    {
     "data": {
      "text/plain": [
       "(126.933595205135, 37.5263478340955)"
      ]
     },
     "execution_count": 81,
     "metadata": {},
     "output_type": "execute_result"
    }
   ],
   "source": [
    "lng = float(result['documents'][0]['x'])\n",
    "lat = float(result['documents'][0]['y'])\n",
    "lng, lat"
   ]
  },
  {
   "cell_type": "code",
   "execution_count": 82,
   "metadata": {},
   "outputs": [
    {
     "data": {
      "text/plain": [
       "RangeIndex(start=0, stop=10, step=1)"
      ]
     },
     "execution_count": 82,
     "metadata": {},
     "output_type": "execute_result"
    }
   ],
   "source": [
    "df.index"
   ]
  },
  {
   "cell_type": "code",
   "execution_count": 83,
   "metadata": {},
   "outputs": [],
   "source": [
    "lng_list, lat_list = [], []\n",
    "for i in df.index:\n",
    "    url = f'{local_url}?query={quote(df.도로명주소[i])}'\n",
    "    result = requests.get(url, headers=header).json()\n",
    "    lng = float(result['documents'][0]['x'])\n",
    "    lat = float(result['documents'][0]['y'])\n",
    "    lng_list.append(lng)\n",
    "    lat_list.append(lat)"
   ]
  },
  {
   "cell_type": "code",
   "execution_count": 84,
   "metadata": {},
   "outputs": [
    {
     "data": {
      "text/html": [
       "<div>\n",
       "<style scoped>\n",
       "    .dataframe tbody tr th:only-of-type {\n",
       "        vertical-align: middle;\n",
       "    }\n",
       "\n",
       "    .dataframe tbody tr th {\n",
       "        vertical-align: top;\n",
       "    }\n",
       "\n",
       "    .dataframe thead th {\n",
       "        text-align: right;\n",
       "    }\n",
       "</style>\n",
       "<table border=\"1\" class=\"dataframe\">\n",
       "  <thead>\n",
       "    <tr style=\"text-align: right;\">\n",
       "      <th></th>\n",
       "      <th>명소</th>\n",
       "      <th>도로명주소</th>\n",
       "      <th>위도</th>\n",
       "      <th>경도</th>\n",
       "    </tr>\n",
       "  </thead>\n",
       "  <tbody>\n",
       "    <tr>\n",
       "      <th>0</th>\n",
       "      <td>인천공항스카이</td>\n",
       "      <td>인천광역시 중구 공항로424번길 43(운서동)</td>\n",
       "      <td>37.442407</td>\n",
       "      <td>126.462009</td>\n",
       "    </tr>\n",
       "    <tr>\n",
       "      <th>1</th>\n",
       "      <td>한강공원뚝섬</td>\n",
       "      <td>서울특별시 광진구 강변북로 2273(자양동)</td>\n",
       "      <td>37.529365</td>\n",
       "      <td>127.073978</td>\n",
       "    </tr>\n",
       "    <tr>\n",
       "      <th>2</th>\n",
       "      <td>신선대</td>\n",
       "      <td>부산광역시 남구 북항로 97(감만동)</td>\n",
       "      <td>35.108351</td>\n",
       "      <td>129.083613</td>\n",
       "    </tr>\n",
       "    <tr>\n",
       "      <th>3</th>\n",
       "      <td>정선강원랜드</td>\n",
       "      <td>강원도 정선군 고한읍 고한로 27</td>\n",
       "      <td>37.208641</td>\n",
       "      <td>128.843132</td>\n",
       "    </tr>\n",
       "    <tr>\n",
       "      <th>4</th>\n",
       "      <td>평창휘닉스</td>\n",
       "      <td>강원도 평창군 봉평면 태기로 140</td>\n",
       "      <td>37.583405</td>\n",
       "      <td>128.325495</td>\n",
       "    </tr>\n",
       "    <tr>\n",
       "      <th>5</th>\n",
       "      <td>전주한옥마을</td>\n",
       "      <td>전라북도 전주시 완산구 한지길 89(풍남동3가)</td>\n",
       "      <td>35.816363</td>\n",
       "      <td>127.154015</td>\n",
       "    </tr>\n",
       "    <tr>\n",
       "      <th>6</th>\n",
       "      <td>예술의전당</td>\n",
       "      <td>서울특별시 서초구 남부순환로 2406(서초동)</td>\n",
       "      <td>37.480240</td>\n",
       "      <td>127.014215</td>\n",
       "    </tr>\n",
       "    <tr>\n",
       "      <th>7</th>\n",
       "      <td>롯데월드</td>\n",
       "      <td>서울특별시 송파구 올림픽로 300(신천동)</td>\n",
       "      <td>37.513752</td>\n",
       "      <td>127.104447</td>\n",
       "    </tr>\n",
       "    <tr>\n",
       "      <th>8</th>\n",
       "      <td>호미곶</td>\n",
       "      <td>경상북도 포항시 남구 호미곶면 호미곶길 155-22</td>\n",
       "      <td>36.078500</td>\n",
       "      <td>129.563751</td>\n",
       "    </tr>\n",
       "    <tr>\n",
       "      <th>9</th>\n",
       "      <td>휘닉스아일랜드</td>\n",
       "      <td>제주특별자치도 서귀포시 성산읍 섭지코지로 107</td>\n",
       "      <td>33.426042</td>\n",
       "      <td>126.926443</td>\n",
       "    </tr>\n",
       "  </tbody>\n",
       "</table>\n",
       "</div>"
      ],
      "text/plain": [
       "        명소                         도로명주소         위도          경도\n",
       "0  인천공항스카이     인천광역시 중구 공항로424번길 43(운서동)  37.442407  126.462009\n",
       "1   한강공원뚝섬      서울특별시 광진구 강변북로 2273(자양동)  37.529365  127.073978\n",
       "2      신선대          부산광역시 남구 북항로 97(감만동)  35.108351  129.083613\n",
       "3   정선강원랜드            강원도 정선군 고한읍 고한로 27  37.208641  128.843132\n",
       "4    평창휘닉스           강원도 평창군 봉평면 태기로 140  37.583405  128.325495\n",
       "5   전주한옥마을    전라북도 전주시 완산구 한지길 89(풍남동3가)  35.816363  127.154015\n",
       "6    예술의전당     서울특별시 서초구 남부순환로 2406(서초동)  37.480240  127.014215\n",
       "7     롯데월드       서울특별시 송파구 올림픽로 300(신천동)  37.513752  127.104447\n",
       "8      호미곶  경상북도 포항시 남구 호미곶면 호미곶길 155-22  36.078500  129.563751\n",
       "9  휘닉스아일랜드    제주특별자치도 서귀포시 성산읍 섭지코지로 107  33.426042  126.926443"
      ]
     },
     "execution_count": 84,
     "metadata": {},
     "output_type": "execute_result"
    }
   ],
   "source": [
    "df['위도'] = lat_list\n",
    "df['경도'] = lng_list\n",
    "df"
   ]
  },
  {
   "cell_type": "code",
   "execution_count": 85,
   "metadata": {},
   "outputs": [],
   "source": [
    "import folium\n",
    "import pandas as pd"
   ]
  },
  {
   "cell_type": "code",
   "execution_count": null,
   "metadata": {},
   "outputs": [],
   "source": [
    "df['icon'] = icons \n",
    "df['shadow'] = shadows\n",
    "icon = []\n",
    "icons.append(\"C:\\\")\n",
    "shadows = []\n",
    "shadows.append()"
   ]
  },
  {
   "cell_type": "code",
   "execution_count": 86,
   "metadata": {},
   "outputs": [
    {
     "data": {
      "text/html": [
       "<div style=\"width:100%;\"><div style=\"position:relative;width:100%;height:0;padding-bottom:60%;\"><span style=\"color:#565656\">Make this Notebook Trusted to load map: File -> Trust Notebook</span><iframe src=\"about:blank\" style=\"position:absolute;width:100%;height:100%;left:0;top:0;border:none !important;\" data-html=%3C%21DOCTYPE%20html%3E%0A%3Chead%3E%20%20%20%20%0A%20%20%20%20%3Cmeta%20http-equiv%3D%22content-type%22%20content%3D%22text/html%3B%20charset%3DUTF-8%22%20/%3E%0A%20%20%20%20%0A%20%20%20%20%20%20%20%20%3Cscript%3E%0A%20%20%20%20%20%20%20%20%20%20%20%20L_NO_TOUCH%20%3D%20false%3B%0A%20%20%20%20%20%20%20%20%20%20%20%20L_DISABLE_3D%20%3D%20false%3B%0A%20%20%20%20%20%20%20%20%3C/script%3E%0A%20%20%20%20%0A%20%20%20%20%3Cstyle%3Ehtml%2C%20body%20%7Bwidth%3A%20100%25%3Bheight%3A%20100%25%3Bmargin%3A%200%3Bpadding%3A%200%3B%7D%3C/style%3E%0A%20%20%20%20%3Cstyle%3E%23map%20%7Bposition%3Aabsolute%3Btop%3A0%3Bbottom%3A0%3Bright%3A0%3Bleft%3A0%3B%7D%3C/style%3E%0A%20%20%20%20%3Cscript%20src%3D%22https%3A//cdn.jsdelivr.net/npm/leaflet%401.6.0/dist/leaflet.js%22%3E%3C/script%3E%0A%20%20%20%20%3Cscript%20src%3D%22https%3A//code.jquery.com/jquery-1.12.4.min.js%22%3E%3C/script%3E%0A%20%20%20%20%3Cscript%20src%3D%22https%3A//maxcdn.bootstrapcdn.com/bootstrap/3.2.0/js/bootstrap.min.js%22%3E%3C/script%3E%0A%20%20%20%20%3Cscript%20src%3D%22https%3A//cdnjs.cloudflare.com/ajax/libs/Leaflet.awesome-markers/2.0.2/leaflet.awesome-markers.js%22%3E%3C/script%3E%0A%20%20%20%20%3Clink%20rel%3D%22stylesheet%22%20href%3D%22https%3A//cdn.jsdelivr.net/npm/leaflet%401.6.0/dist/leaflet.css%22/%3E%0A%20%20%20%20%3Clink%20rel%3D%22stylesheet%22%20href%3D%22https%3A//maxcdn.bootstrapcdn.com/bootstrap/3.2.0/css/bootstrap.min.css%22/%3E%0A%20%20%20%20%3Clink%20rel%3D%22stylesheet%22%20href%3D%22https%3A//maxcdn.bootstrapcdn.com/bootstrap/3.2.0/css/bootstrap-theme.min.css%22/%3E%0A%20%20%20%20%3Clink%20rel%3D%22stylesheet%22%20href%3D%22https%3A//maxcdn.bootstrapcdn.com/font-awesome/4.6.3/css/font-awesome.min.css%22/%3E%0A%20%20%20%20%3Clink%20rel%3D%22stylesheet%22%20href%3D%22https%3A//cdnjs.cloudflare.com/ajax/libs/Leaflet.awesome-markers/2.0.2/leaflet.awesome-markers.css%22/%3E%0A%20%20%20%20%3Clink%20rel%3D%22stylesheet%22%20href%3D%22https%3A//cdn.jsdelivr.net/gh/python-visualization/folium/folium/templates/leaflet.awesome.rotate.min.css%22/%3E%0A%20%20%20%20%0A%20%20%20%20%20%20%20%20%20%20%20%20%3Cmeta%20name%3D%22viewport%22%20content%3D%22width%3Ddevice-width%2C%0A%20%20%20%20%20%20%20%20%20%20%20%20%20%20%20%20initial-scale%3D1.0%2C%20maximum-scale%3D1.0%2C%20user-scalable%3Dno%22%20/%3E%0A%20%20%20%20%20%20%20%20%20%20%20%20%3Cstyle%3E%0A%20%20%20%20%20%20%20%20%20%20%20%20%20%20%20%20%23map_82eb711cb7e640dc8dd107b60e1a4633%20%7B%0A%20%20%20%20%20%20%20%20%20%20%20%20%20%20%20%20%20%20%20%20position%3A%20relative%3B%0A%20%20%20%20%20%20%20%20%20%20%20%20%20%20%20%20%20%20%20%20width%3A%20100.0%25%3B%0A%20%20%20%20%20%20%20%20%20%20%20%20%20%20%20%20%20%20%20%20height%3A%20100.0%25%3B%0A%20%20%20%20%20%20%20%20%20%20%20%20%20%20%20%20%20%20%20%20left%3A%200.0%25%3B%0A%20%20%20%20%20%20%20%20%20%20%20%20%20%20%20%20%20%20%20%20top%3A%200.0%25%3B%0A%20%20%20%20%20%20%20%20%20%20%20%20%20%20%20%20%7D%0A%20%20%20%20%20%20%20%20%20%20%20%20%3C/style%3E%0A%20%20%20%20%20%20%20%20%0A%3C/head%3E%0A%3Cbody%3E%20%20%20%20%0A%20%20%20%20%3Ch3%20align%3D%22center%22%20style%3D%22font-size%3A20px%22%3E%EA%B0%80%EA%B3%A0%EC%8B%B6%EC%9D%80%20%EB%AA%85%EC%86%8C%2010%EA%B0%9C%20%ED%91%9C%EC%8B%9C%3C/h3%3E%0A%20%20%20%20%0A%20%20%20%20%20%20%20%20%20%20%20%20%3Cdiv%20class%3D%22folium-map%22%20id%3D%22map_82eb711cb7e640dc8dd107b60e1a4633%22%20%3E%3C/div%3E%0A%20%20%20%20%20%20%20%20%0A%3C/body%3E%0A%3Cscript%3E%20%20%20%20%0A%20%20%20%20%0A%20%20%20%20%20%20%20%20%20%20%20%20var%20map_82eb711cb7e640dc8dd107b60e1a4633%20%3D%20L.map%28%0A%20%20%20%20%20%20%20%20%20%20%20%20%20%20%20%20%22map_82eb711cb7e640dc8dd107b60e1a4633%22%2C%0A%20%20%20%20%20%20%20%20%20%20%20%20%20%20%20%20%7B%0A%20%20%20%20%20%20%20%20%20%20%20%20%20%20%20%20%20%20%20%20center%3A%20%5B36.51870653744263%2C%20127.75510988753251%5D%2C%0A%20%20%20%20%20%20%20%20%20%20%20%20%20%20%20%20%20%20%20%20crs%3A%20L.CRS.EPSG3857%2C%0A%20%20%20%20%20%20%20%20%20%20%20%20%20%20%20%20%20%20%20%20zoom%3A%206%2C%0A%20%20%20%20%20%20%20%20%20%20%20%20%20%20%20%20%20%20%20%20zoomControl%3A%20true%2C%0A%20%20%20%20%20%20%20%20%20%20%20%20%20%20%20%20%20%20%20%20preferCanvas%3A%20false%2C%0A%20%20%20%20%20%20%20%20%20%20%20%20%20%20%20%20%7D%0A%20%20%20%20%20%20%20%20%20%20%20%20%29%3B%0A%0A%20%20%20%20%20%20%20%20%20%20%20%20%0A%0A%20%20%20%20%20%20%20%20%0A%20%20%20%20%0A%20%20%20%20%20%20%20%20%20%20%20%20var%20tile_layer_9a9aee3383f842889dca0873f92e9c1a%20%3D%20L.tileLayer%28%0A%20%20%20%20%20%20%20%20%20%20%20%20%20%20%20%20%22https%3A//%7Bs%7D.tile.openstreetmap.org/%7Bz%7D/%7Bx%7D/%7By%7D.png%22%2C%0A%20%20%20%20%20%20%20%20%20%20%20%20%20%20%20%20%7B%22attribution%22%3A%20%22Data%20by%20%5Cu0026copy%3B%20%5Cu003ca%20href%3D%5C%22http%3A//openstreetmap.org%5C%22%5Cu003eOpenStreetMap%5Cu003c/a%5Cu003e%2C%20under%20%5Cu003ca%20href%3D%5C%22http%3A//www.openstreetmap.org/copyright%5C%22%5Cu003eODbL%5Cu003c/a%5Cu003e.%22%2C%20%22detectRetina%22%3A%20false%2C%20%22maxNativeZoom%22%3A%2018%2C%20%22maxZoom%22%3A%2018%2C%20%22minZoom%22%3A%200%2C%20%22noWrap%22%3A%20false%2C%20%22opacity%22%3A%201%2C%20%22subdomains%22%3A%20%22abc%22%2C%20%22tms%22%3A%20false%7D%0A%20%20%20%20%20%20%20%20%20%20%20%20%29.addTo%28map_82eb711cb7e640dc8dd107b60e1a4633%29%3B%0A%20%20%20%20%20%20%20%20%0A%20%20%20%20%0A%20%20%20%20%20%20%20%20%20%20%20%20var%20marker_95e638f4a2a140fe94474a274f186c94%20%3D%20L.marker%28%0A%20%20%20%20%20%20%20%20%20%20%20%20%20%20%20%20%5B37.4424071774866%2C%20126.462009349219%5D%2C%0A%20%20%20%20%20%20%20%20%20%20%20%20%20%20%20%20%7B%7D%0A%20%20%20%20%20%20%20%20%20%20%20%20%29.addTo%28map_82eb711cb7e640dc8dd107b60e1a4633%29%3B%0A%20%20%20%20%20%20%20%20%0A%20%20%20%20%0A%20%20%20%20%20%20%20%20var%20popup_dddb5192eaaa4658828e52435fc12620%20%3D%20L.popup%28%7B%22maxWidth%22%3A%20200%7D%29%3B%0A%0A%20%20%20%20%20%20%20%20%0A%20%20%20%20%20%20%20%20%20%20%20%20var%20html_8329dd24fd494f60973a00e363cd2f99%20%3D%20%24%28%60%3Cdiv%20id%3D%22html_8329dd24fd494f60973a00e363cd2f99%22%20style%3D%22width%3A%20100.0%25%3B%20height%3A%20100.0%25%3B%22%3E%EC%9D%B8%EC%B2%9C%EA%B4%91%EC%97%AD%EC%8B%9C%20%EC%A4%91%EA%B5%AC%20%EA%B3%B5%ED%95%AD%EB%A1%9C424%EB%B2%88%EA%B8%B8%2043%28%EC%9A%B4%EC%84%9C%EB%8F%99%29%3C/div%3E%60%29%5B0%5D%3B%0A%20%20%20%20%20%20%20%20%20%20%20%20popup_dddb5192eaaa4658828e52435fc12620.setContent%28html_8329dd24fd494f60973a00e363cd2f99%29%3B%0A%20%20%20%20%20%20%20%20%0A%0A%20%20%20%20%20%20%20%20marker_95e638f4a2a140fe94474a274f186c94.bindPopup%28popup_dddb5192eaaa4658828e52435fc12620%29%0A%20%20%20%20%20%20%20%20%3B%0A%0A%20%20%20%20%20%20%20%20%0A%20%20%20%20%0A%20%20%20%20%0A%20%20%20%20%20%20%20%20%20%20%20%20marker_95e638f4a2a140fe94474a274f186c94.bindTooltip%28%0A%20%20%20%20%20%20%20%20%20%20%20%20%20%20%20%20%60%3Cdiv%3E%0A%20%20%20%20%20%20%20%20%20%20%20%20%20%20%20%20%20%20%20%20%20%EC%9D%B8%EC%B2%9C%EA%B3%B5%ED%95%AD%EC%8A%A4%EC%B9%B4%EC%9D%B4%0A%20%20%20%20%20%20%20%20%20%20%20%20%20%20%20%20%20%3C/div%3E%60%2C%0A%20%20%20%20%20%20%20%20%20%20%20%20%20%20%20%20%7B%22sticky%22%3A%20true%7D%0A%20%20%20%20%20%20%20%20%20%20%20%20%29%3B%0A%20%20%20%20%20%20%20%20%0A%20%20%20%20%0A%20%20%20%20%20%20%20%20%20%20%20%20var%20marker_fa86ebf944e34b5a8eb6d4ef2328a9fd%20%3D%20L.marker%28%0A%20%20%20%20%20%20%20%20%20%20%20%20%20%20%20%20%5B37.5293645718995%2C%20127.073978164616%5D%2C%0A%20%20%20%20%20%20%20%20%20%20%20%20%20%20%20%20%7B%7D%0A%20%20%20%20%20%20%20%20%20%20%20%20%29.addTo%28map_82eb711cb7e640dc8dd107b60e1a4633%29%3B%0A%20%20%20%20%20%20%20%20%0A%20%20%20%20%0A%20%20%20%20%20%20%20%20var%20popup_ff363744fd854543a7d06c04659bf299%20%3D%20L.popup%28%7B%22maxWidth%22%3A%20200%7D%29%3B%0A%0A%20%20%20%20%20%20%20%20%0A%20%20%20%20%20%20%20%20%20%20%20%20var%20html_337684831f884af0bf3ef63964617f8f%20%3D%20%24%28%60%3Cdiv%20id%3D%22html_337684831f884af0bf3ef63964617f8f%22%20style%3D%22width%3A%20100.0%25%3B%20height%3A%20100.0%25%3B%22%3E%EC%84%9C%EC%9A%B8%ED%8A%B9%EB%B3%84%EC%8B%9C%20%EA%B4%91%EC%A7%84%EA%B5%AC%20%EA%B0%95%EB%B3%80%EB%B6%81%EB%A1%9C%202273%28%EC%9E%90%EC%96%91%EB%8F%99%29%3C/div%3E%60%29%5B0%5D%3B%0A%20%20%20%20%20%20%20%20%20%20%20%20popup_ff363744fd854543a7d06c04659bf299.setContent%28html_337684831f884af0bf3ef63964617f8f%29%3B%0A%20%20%20%20%20%20%20%20%0A%0A%20%20%20%20%20%20%20%20marker_fa86ebf944e34b5a8eb6d4ef2328a9fd.bindPopup%28popup_ff363744fd854543a7d06c04659bf299%29%0A%20%20%20%20%20%20%20%20%3B%0A%0A%20%20%20%20%20%20%20%20%0A%20%20%20%20%0A%20%20%20%20%0A%20%20%20%20%20%20%20%20%20%20%20%20marker_fa86ebf944e34b5a8eb6d4ef2328a9fd.bindTooltip%28%0A%20%20%20%20%20%20%20%20%20%20%20%20%20%20%20%20%60%3Cdiv%3E%0A%20%20%20%20%20%20%20%20%20%20%20%20%20%20%20%20%20%20%20%20%20%ED%95%9C%EA%B0%95%EA%B3%B5%EC%9B%90%EB%9A%9D%EC%84%AC%0A%20%20%20%20%20%20%20%20%20%20%20%20%20%20%20%20%20%3C/div%3E%60%2C%0A%20%20%20%20%20%20%20%20%20%20%20%20%20%20%20%20%7B%22sticky%22%3A%20true%7D%0A%20%20%20%20%20%20%20%20%20%20%20%20%29%3B%0A%20%20%20%20%20%20%20%20%0A%20%20%20%20%0A%20%20%20%20%20%20%20%20%20%20%20%20var%20marker_5bfc7e23802c4982ab79cd06db3f8555%20%3D%20L.marker%28%0A%20%20%20%20%20%20%20%20%20%20%20%20%20%20%20%20%5B35.1083513801628%2C%20129.083612595771%5D%2C%0A%20%20%20%20%20%20%20%20%20%20%20%20%20%20%20%20%7B%7D%0A%20%20%20%20%20%20%20%20%20%20%20%20%29.addTo%28map_82eb711cb7e640dc8dd107b60e1a4633%29%3B%0A%20%20%20%20%20%20%20%20%0A%20%20%20%20%0A%20%20%20%20%20%20%20%20var%20popup_13a1621039404bdc938dc1ad5e59a317%20%3D%20L.popup%28%7B%22maxWidth%22%3A%20200%7D%29%3B%0A%0A%20%20%20%20%20%20%20%20%0A%20%20%20%20%20%20%20%20%20%20%20%20var%20html_2cedb61c474c4a319cb532038edb0450%20%3D%20%24%28%60%3Cdiv%20id%3D%22html_2cedb61c474c4a319cb532038edb0450%22%20style%3D%22width%3A%20100.0%25%3B%20height%3A%20100.0%25%3B%22%3E%EB%B6%80%EC%82%B0%EA%B4%91%EC%97%AD%EC%8B%9C%20%EB%82%A8%EA%B5%AC%20%EB%B6%81%ED%95%AD%EB%A1%9C%2097%28%EA%B0%90%EB%A7%8C%EB%8F%99%29%3C/div%3E%60%29%5B0%5D%3B%0A%20%20%20%20%20%20%20%20%20%20%20%20popup_13a1621039404bdc938dc1ad5e59a317.setContent%28html_2cedb61c474c4a319cb532038edb0450%29%3B%0A%20%20%20%20%20%20%20%20%0A%0A%20%20%20%20%20%20%20%20marker_5bfc7e23802c4982ab79cd06db3f8555.bindPopup%28popup_13a1621039404bdc938dc1ad5e59a317%29%0A%20%20%20%20%20%20%20%20%3B%0A%0A%20%20%20%20%20%20%20%20%0A%20%20%20%20%0A%20%20%20%20%0A%20%20%20%20%20%20%20%20%20%20%20%20marker_5bfc7e23802c4982ab79cd06db3f8555.bindTooltip%28%0A%20%20%20%20%20%20%20%20%20%20%20%20%20%20%20%20%60%3Cdiv%3E%0A%20%20%20%20%20%20%20%20%20%20%20%20%20%20%20%20%20%20%20%20%20%EC%8B%A0%EC%84%A0%EB%8C%80%0A%20%20%20%20%20%20%20%20%20%20%20%20%20%20%20%20%20%3C/div%3E%60%2C%0A%20%20%20%20%20%20%20%20%20%20%20%20%20%20%20%20%7B%22sticky%22%3A%20true%7D%0A%20%20%20%20%20%20%20%20%20%20%20%20%29%3B%0A%20%20%20%20%20%20%20%20%0A%20%20%20%20%0A%20%20%20%20%20%20%20%20%20%20%20%20var%20marker_318aea92ec794fa9b856e5b7a1aeaff5%20%3D%20L.marker%28%0A%20%20%20%20%20%20%20%20%20%20%20%20%20%20%20%20%5B37.2086405988748%2C%20128.843132416257%5D%2C%0A%20%20%20%20%20%20%20%20%20%20%20%20%20%20%20%20%7B%7D%0A%20%20%20%20%20%20%20%20%20%20%20%20%29.addTo%28map_82eb711cb7e640dc8dd107b60e1a4633%29%3B%0A%20%20%20%20%20%20%20%20%0A%20%20%20%20%0A%20%20%20%20%20%20%20%20var%20popup_03ccdd0db7584385b5e35bae278de651%20%3D%20L.popup%28%7B%22maxWidth%22%3A%20200%7D%29%3B%0A%0A%20%20%20%20%20%20%20%20%0A%20%20%20%20%20%20%20%20%20%20%20%20var%20html_d26a21bbee8c42d399b48cf1b4a62a7c%20%3D%20%24%28%60%3Cdiv%20id%3D%22html_d26a21bbee8c42d399b48cf1b4a62a7c%22%20style%3D%22width%3A%20100.0%25%3B%20height%3A%20100.0%25%3B%22%3E%EA%B0%95%EC%9B%90%EB%8F%84%20%EC%A0%95%EC%84%A0%EA%B5%B0%20%EA%B3%A0%ED%95%9C%EC%9D%8D%20%EA%B3%A0%ED%95%9C%EB%A1%9C%2027%3C/div%3E%60%29%5B0%5D%3B%0A%20%20%20%20%20%20%20%20%20%20%20%20popup_03ccdd0db7584385b5e35bae278de651.setContent%28html_d26a21bbee8c42d399b48cf1b4a62a7c%29%3B%0A%20%20%20%20%20%20%20%20%0A%0A%20%20%20%20%20%20%20%20marker_318aea92ec794fa9b856e5b7a1aeaff5.bindPopup%28popup_03ccdd0db7584385b5e35bae278de651%29%0A%20%20%20%20%20%20%20%20%3B%0A%0A%20%20%20%20%20%20%20%20%0A%20%20%20%20%0A%20%20%20%20%0A%20%20%20%20%20%20%20%20%20%20%20%20marker_318aea92ec794fa9b856e5b7a1aeaff5.bindTooltip%28%0A%20%20%20%20%20%20%20%20%20%20%20%20%20%20%20%20%60%3Cdiv%3E%0A%20%20%20%20%20%20%20%20%20%20%20%20%20%20%20%20%20%20%20%20%20%EC%A0%95%EC%84%A0%EA%B0%95%EC%9B%90%EB%9E%9C%EB%93%9C%0A%20%20%20%20%20%20%20%20%20%20%20%20%20%20%20%20%20%3C/div%3E%60%2C%0A%20%20%20%20%20%20%20%20%20%20%20%20%20%20%20%20%7B%22sticky%22%3A%20true%7D%0A%20%20%20%20%20%20%20%20%20%20%20%20%29%3B%0A%20%20%20%20%20%20%20%20%0A%20%20%20%20%0A%20%20%20%20%20%20%20%20%20%20%20%20var%20marker_7e056ffeabfe452faff82127c799bf14%20%3D%20L.marker%28%0A%20%20%20%20%20%20%20%20%20%20%20%20%20%20%20%20%5B37.5834045481183%2C%20128.325494726645%5D%2C%0A%20%20%20%20%20%20%20%20%20%20%20%20%20%20%20%20%7B%7D%0A%20%20%20%20%20%20%20%20%20%20%20%20%29.addTo%28map_82eb711cb7e640dc8dd107b60e1a4633%29%3B%0A%20%20%20%20%20%20%20%20%0A%20%20%20%20%0A%20%20%20%20%20%20%20%20var%20popup_93d1dda7afe441c5a4d1f947550802c5%20%3D%20L.popup%28%7B%22maxWidth%22%3A%20200%7D%29%3B%0A%0A%20%20%20%20%20%20%20%20%0A%20%20%20%20%20%20%20%20%20%20%20%20var%20html_fbda1af7428e4829b04421da102c87f1%20%3D%20%24%28%60%3Cdiv%20id%3D%22html_fbda1af7428e4829b04421da102c87f1%22%20style%3D%22width%3A%20100.0%25%3B%20height%3A%20100.0%25%3B%22%3E%EA%B0%95%EC%9B%90%EB%8F%84%20%ED%8F%89%EC%B0%BD%EA%B5%B0%20%EB%B4%89%ED%8F%89%EB%A9%B4%20%ED%83%9C%EA%B8%B0%EB%A1%9C%20140%3C/div%3E%60%29%5B0%5D%3B%0A%20%20%20%20%20%20%20%20%20%20%20%20popup_93d1dda7afe441c5a4d1f947550802c5.setContent%28html_fbda1af7428e4829b04421da102c87f1%29%3B%0A%20%20%20%20%20%20%20%20%0A%0A%20%20%20%20%20%20%20%20marker_7e056ffeabfe452faff82127c799bf14.bindPopup%28popup_93d1dda7afe441c5a4d1f947550802c5%29%0A%20%20%20%20%20%20%20%20%3B%0A%0A%20%20%20%20%20%20%20%20%0A%20%20%20%20%0A%20%20%20%20%0A%20%20%20%20%20%20%20%20%20%20%20%20marker_7e056ffeabfe452faff82127c799bf14.bindTooltip%28%0A%20%20%20%20%20%20%20%20%20%20%20%20%20%20%20%20%60%3Cdiv%3E%0A%20%20%20%20%20%20%20%20%20%20%20%20%20%20%20%20%20%20%20%20%20%ED%8F%89%EC%B0%BD%ED%9C%98%EB%8B%89%EC%8A%A4%0A%20%20%20%20%20%20%20%20%20%20%20%20%20%20%20%20%20%3C/div%3E%60%2C%0A%20%20%20%20%20%20%20%20%20%20%20%20%20%20%20%20%7B%22sticky%22%3A%20true%7D%0A%20%20%20%20%20%20%20%20%20%20%20%20%29%3B%0A%20%20%20%20%20%20%20%20%0A%20%20%20%20%0A%20%20%20%20%20%20%20%20%20%20%20%20var%20marker_6a1cc485335b4c2e87682ada1704312d%20%3D%20L.marker%28%0A%20%20%20%20%20%20%20%20%20%20%20%20%20%20%20%20%5B35.8163628836843%2C%20127.154015346557%5D%2C%0A%20%20%20%20%20%20%20%20%20%20%20%20%20%20%20%20%7B%7D%0A%20%20%20%20%20%20%20%20%20%20%20%20%29.addTo%28map_82eb711cb7e640dc8dd107b60e1a4633%29%3B%0A%20%20%20%20%20%20%20%20%0A%20%20%20%20%0A%20%20%20%20%20%20%20%20var%20popup_0e739924406b42a284ef4737d609ac7a%20%3D%20L.popup%28%7B%22maxWidth%22%3A%20200%7D%29%3B%0A%0A%20%20%20%20%20%20%20%20%0A%20%20%20%20%20%20%20%20%20%20%20%20var%20html_e724fb611f8c4d788267a5d873a49aa2%20%3D%20%24%28%60%3Cdiv%20id%3D%22html_e724fb611f8c4d788267a5d873a49aa2%22%20style%3D%22width%3A%20100.0%25%3B%20height%3A%20100.0%25%3B%22%3E%EC%A0%84%EB%9D%BC%EB%B6%81%EB%8F%84%20%EC%A0%84%EC%A3%BC%EC%8B%9C%20%EC%99%84%EC%82%B0%EA%B5%AC%20%ED%95%9C%EC%A7%80%EA%B8%B8%2089%28%ED%92%8D%EB%82%A8%EB%8F%993%EA%B0%80%29%3C/div%3E%60%29%5B0%5D%3B%0A%20%20%20%20%20%20%20%20%20%20%20%20popup_0e739924406b42a284ef4737d609ac7a.setContent%28html_e724fb611f8c4d788267a5d873a49aa2%29%3B%0A%20%20%20%20%20%20%20%20%0A%0A%20%20%20%20%20%20%20%20marker_6a1cc485335b4c2e87682ada1704312d.bindPopup%28popup_0e739924406b42a284ef4737d609ac7a%29%0A%20%20%20%20%20%20%20%20%3B%0A%0A%20%20%20%20%20%20%20%20%0A%20%20%20%20%0A%20%20%20%20%0A%20%20%20%20%20%20%20%20%20%20%20%20marker_6a1cc485335b4c2e87682ada1704312d.bindTooltip%28%0A%20%20%20%20%20%20%20%20%20%20%20%20%20%20%20%20%60%3Cdiv%3E%0A%20%20%20%20%20%20%20%20%20%20%20%20%20%20%20%20%20%20%20%20%20%EC%A0%84%EC%A3%BC%ED%95%9C%EC%98%A5%EB%A7%88%EC%9D%84%0A%20%20%20%20%20%20%20%20%20%20%20%20%20%20%20%20%20%3C/div%3E%60%2C%0A%20%20%20%20%20%20%20%20%20%20%20%20%20%20%20%20%7B%22sticky%22%3A%20true%7D%0A%20%20%20%20%20%20%20%20%20%20%20%20%29%3B%0A%20%20%20%20%20%20%20%20%0A%20%20%20%20%0A%20%20%20%20%20%20%20%20%20%20%20%20var%20marker_cda13b3e3f644878bdd38ef1ab23463b%20%3D%20L.marker%28%0A%20%20%20%20%20%20%20%20%20%20%20%20%20%20%20%20%5B37.4802401962069%2C%20127.014215239186%5D%2C%0A%20%20%20%20%20%20%20%20%20%20%20%20%20%20%20%20%7B%7D%0A%20%20%20%20%20%20%20%20%20%20%20%20%29.addTo%28map_82eb711cb7e640dc8dd107b60e1a4633%29%3B%0A%20%20%20%20%20%20%20%20%0A%20%20%20%20%0A%20%20%20%20%20%20%20%20var%20popup_d479e97d0ac74f79894ecc2b696aaad3%20%3D%20L.popup%28%7B%22maxWidth%22%3A%20200%7D%29%3B%0A%0A%20%20%20%20%20%20%20%20%0A%20%20%20%20%20%20%20%20%20%20%20%20var%20html_02ac3925a39e46bba1aaafe766032d40%20%3D%20%24%28%60%3Cdiv%20id%3D%22html_02ac3925a39e46bba1aaafe766032d40%22%20style%3D%22width%3A%20100.0%25%3B%20height%3A%20100.0%25%3B%22%3E%EC%84%9C%EC%9A%B8%ED%8A%B9%EB%B3%84%EC%8B%9C%20%EC%84%9C%EC%B4%88%EA%B5%AC%20%EB%82%A8%EB%B6%80%EC%88%9C%ED%99%98%EB%A1%9C%202406%28%EC%84%9C%EC%B4%88%EB%8F%99%29%3C/div%3E%60%29%5B0%5D%3B%0A%20%20%20%20%20%20%20%20%20%20%20%20popup_d479e97d0ac74f79894ecc2b696aaad3.setContent%28html_02ac3925a39e46bba1aaafe766032d40%29%3B%0A%20%20%20%20%20%20%20%20%0A%0A%20%20%20%20%20%20%20%20marker_cda13b3e3f644878bdd38ef1ab23463b.bindPopup%28popup_d479e97d0ac74f79894ecc2b696aaad3%29%0A%20%20%20%20%20%20%20%20%3B%0A%0A%20%20%20%20%20%20%20%20%0A%20%20%20%20%0A%20%20%20%20%0A%20%20%20%20%20%20%20%20%20%20%20%20marker_cda13b3e3f644878bdd38ef1ab23463b.bindTooltip%28%0A%20%20%20%20%20%20%20%20%20%20%20%20%20%20%20%20%60%3Cdiv%3E%0A%20%20%20%20%20%20%20%20%20%20%20%20%20%20%20%20%20%20%20%20%20%EC%98%88%EC%88%A0%EC%9D%98%EC%A0%84%EB%8B%B9%0A%20%20%20%20%20%20%20%20%20%20%20%20%20%20%20%20%20%3C/div%3E%60%2C%0A%20%20%20%20%20%20%20%20%20%20%20%20%20%20%20%20%7B%22sticky%22%3A%20true%7D%0A%20%20%20%20%20%20%20%20%20%20%20%20%29%3B%0A%20%20%20%20%20%20%20%20%0A%20%20%20%20%0A%20%20%20%20%20%20%20%20%20%20%20%20var%20marker_1d97ae01132a452a8dda2f168822b495%20%3D%20L.marker%28%0A%20%20%20%20%20%20%20%20%20%20%20%20%20%20%20%20%5B37.5137519612953%2C%20127.104446890835%5D%2C%0A%20%20%20%20%20%20%20%20%20%20%20%20%20%20%20%20%7B%7D%0A%20%20%20%20%20%20%20%20%20%20%20%20%29.addTo%28map_82eb711cb7e640dc8dd107b60e1a4633%29%3B%0A%20%20%20%20%20%20%20%20%0A%20%20%20%20%0A%20%20%20%20%20%20%20%20var%20popup_8afce241fb814c1bbdcf2fe11d3b1648%20%3D%20L.popup%28%7B%22maxWidth%22%3A%20200%7D%29%3B%0A%0A%20%20%20%20%20%20%20%20%0A%20%20%20%20%20%20%20%20%20%20%20%20var%20html_c24fded3a9a540779fa9ef83612d8a6e%20%3D%20%24%28%60%3Cdiv%20id%3D%22html_c24fded3a9a540779fa9ef83612d8a6e%22%20style%3D%22width%3A%20100.0%25%3B%20height%3A%20100.0%25%3B%22%3E%EC%84%9C%EC%9A%B8%ED%8A%B9%EB%B3%84%EC%8B%9C%20%EC%86%A1%ED%8C%8C%EA%B5%AC%20%EC%98%AC%EB%A6%BC%ED%94%BD%EB%A1%9C%20300%28%EC%8B%A0%EC%B2%9C%EB%8F%99%29%3C/div%3E%60%29%5B0%5D%3B%0A%20%20%20%20%20%20%20%20%20%20%20%20popup_8afce241fb814c1bbdcf2fe11d3b1648.setContent%28html_c24fded3a9a540779fa9ef83612d8a6e%29%3B%0A%20%20%20%20%20%20%20%20%0A%0A%20%20%20%20%20%20%20%20marker_1d97ae01132a452a8dda2f168822b495.bindPopup%28popup_8afce241fb814c1bbdcf2fe11d3b1648%29%0A%20%20%20%20%20%20%20%20%3B%0A%0A%20%20%20%20%20%20%20%20%0A%20%20%20%20%0A%20%20%20%20%0A%20%20%20%20%20%20%20%20%20%20%20%20marker_1d97ae01132a452a8dda2f168822b495.bindTooltip%28%0A%20%20%20%20%20%20%20%20%20%20%20%20%20%20%20%20%60%3Cdiv%3E%0A%20%20%20%20%20%20%20%20%20%20%20%20%20%20%20%20%20%20%20%20%20%EB%A1%AF%EB%8D%B0%EC%9B%94%EB%93%9C%0A%20%20%20%20%20%20%20%20%20%20%20%20%20%20%20%20%20%3C/div%3E%60%2C%0A%20%20%20%20%20%20%20%20%20%20%20%20%20%20%20%20%7B%22sticky%22%3A%20true%7D%0A%20%20%20%20%20%20%20%20%20%20%20%20%29%3B%0A%20%20%20%20%20%20%20%20%0A%20%20%20%20%0A%20%20%20%20%20%20%20%20%20%20%20%20var%20marker_5ebf8a6703404345b8573eadf768e172%20%3D%20L.marker%28%0A%20%20%20%20%20%20%20%20%20%20%20%20%20%20%20%20%5B36.0784996781743%2C%20129.56375145785%5D%2C%0A%20%20%20%20%20%20%20%20%20%20%20%20%20%20%20%20%7B%7D%0A%20%20%20%20%20%20%20%20%20%20%20%20%29.addTo%28map_82eb711cb7e640dc8dd107b60e1a4633%29%3B%0A%20%20%20%20%20%20%20%20%0A%20%20%20%20%0A%20%20%20%20%20%20%20%20var%20popup_5faa51b1896c40d7b8a598fdd9237fe1%20%3D%20L.popup%28%7B%22maxWidth%22%3A%20200%7D%29%3B%0A%0A%20%20%20%20%20%20%20%20%0A%20%20%20%20%20%20%20%20%20%20%20%20var%20html_61f4f2931382454ab7452afb2a9897f0%20%3D%20%24%28%60%3Cdiv%20id%3D%22html_61f4f2931382454ab7452afb2a9897f0%22%20style%3D%22width%3A%20100.0%25%3B%20height%3A%20100.0%25%3B%22%3E%EA%B2%BD%EC%83%81%EB%B6%81%EB%8F%84%20%ED%8F%AC%ED%95%AD%EC%8B%9C%20%EB%82%A8%EA%B5%AC%20%ED%98%B8%EB%AF%B8%EA%B3%B6%EB%A9%B4%20%ED%98%B8%EB%AF%B8%EA%B3%B6%EA%B8%B8%20155-22%3C/div%3E%60%29%5B0%5D%3B%0A%20%20%20%20%20%20%20%20%20%20%20%20popup_5faa51b1896c40d7b8a598fdd9237fe1.setContent%28html_61f4f2931382454ab7452afb2a9897f0%29%3B%0A%20%20%20%20%20%20%20%20%0A%0A%20%20%20%20%20%20%20%20marker_5ebf8a6703404345b8573eadf768e172.bindPopup%28popup_5faa51b1896c40d7b8a598fdd9237fe1%29%0A%20%20%20%20%20%20%20%20%3B%0A%0A%20%20%20%20%20%20%20%20%0A%20%20%20%20%0A%20%20%20%20%0A%20%20%20%20%20%20%20%20%20%20%20%20marker_5ebf8a6703404345b8573eadf768e172.bindTooltip%28%0A%20%20%20%20%20%20%20%20%20%20%20%20%20%20%20%20%60%3Cdiv%3E%0A%20%20%20%20%20%20%20%20%20%20%20%20%20%20%20%20%20%20%20%20%20%ED%98%B8%EB%AF%B8%EA%B3%B6%0A%20%20%20%20%20%20%20%20%20%20%20%20%20%20%20%20%20%3C/div%3E%60%2C%0A%20%20%20%20%20%20%20%20%20%20%20%20%20%20%20%20%7B%22sticky%22%3A%20true%7D%0A%20%20%20%20%20%20%20%20%20%20%20%20%29%3B%0A%20%20%20%20%20%20%20%20%0A%20%20%20%20%0A%20%20%20%20%20%20%20%20%20%20%20%20var%20marker_766585ca76324ff0863490267b8bf26f%20%3D%20L.marker%28%0A%20%20%20%20%20%20%20%20%20%20%20%20%20%20%20%20%5B33.4260423785235%2C%20126.926442688389%5D%2C%0A%20%20%20%20%20%20%20%20%20%20%20%20%20%20%20%20%7B%7D%0A%20%20%20%20%20%20%20%20%20%20%20%20%29.addTo%28map_82eb711cb7e640dc8dd107b60e1a4633%29%3B%0A%20%20%20%20%20%20%20%20%0A%20%20%20%20%0A%20%20%20%20%20%20%20%20var%20popup_1ecb1e6ffef049e98800f4c0ea62e741%20%3D%20L.popup%28%7B%22maxWidth%22%3A%20200%7D%29%3B%0A%0A%20%20%20%20%20%20%20%20%0A%20%20%20%20%20%20%20%20%20%20%20%20var%20html_dd923761ca5049d2816696d1902fd0c8%20%3D%20%24%28%60%3Cdiv%20id%3D%22html_dd923761ca5049d2816696d1902fd0c8%22%20style%3D%22width%3A%20100.0%25%3B%20height%3A%20100.0%25%3B%22%3E%EC%A0%9C%EC%A3%BC%ED%8A%B9%EB%B3%84%EC%9E%90%EC%B9%98%EB%8F%84%20%EC%84%9C%EA%B7%80%ED%8F%AC%EC%8B%9C%20%EC%84%B1%EC%82%B0%EC%9D%8D%20%EC%84%AD%EC%A7%80%EC%BD%94%EC%A7%80%EB%A1%9C%20107%3C/div%3E%60%29%5B0%5D%3B%0A%20%20%20%20%20%20%20%20%20%20%20%20popup_1ecb1e6ffef049e98800f4c0ea62e741.setContent%28html_dd923761ca5049d2816696d1902fd0c8%29%3B%0A%20%20%20%20%20%20%20%20%0A%0A%20%20%20%20%20%20%20%20marker_766585ca76324ff0863490267b8bf26f.bindPopup%28popup_1ecb1e6ffef049e98800f4c0ea62e741%29%0A%20%20%20%20%20%20%20%20%3B%0A%0A%20%20%20%20%20%20%20%20%0A%20%20%20%20%0A%20%20%20%20%0A%20%20%20%20%20%20%20%20%20%20%20%20marker_766585ca76324ff0863490267b8bf26f.bindTooltip%28%0A%20%20%20%20%20%20%20%20%20%20%20%20%20%20%20%20%60%3Cdiv%3E%0A%20%20%20%20%20%20%20%20%20%20%20%20%20%20%20%20%20%20%20%20%20%ED%9C%98%EB%8B%89%EC%8A%A4%EC%95%84%EC%9D%BC%EB%9E%9C%EB%93%9C%0A%20%20%20%20%20%20%20%20%20%20%20%20%20%20%20%20%20%3C/div%3E%60%2C%0A%20%20%20%20%20%20%20%20%20%20%20%20%20%20%20%20%7B%22sticky%22%3A%20true%7D%0A%20%20%20%20%20%20%20%20%20%20%20%20%29%3B%0A%20%20%20%20%20%20%20%20%0A%3C/script%3E onload=\"this.contentDocument.open();this.contentDocument.write(    decodeURIComponent(this.getAttribute('data-html')));this.contentDocument.close();\" allowfullscreen webkitallowfullscreen mozallowfullscreen></iframe></div></div>"
      ],
      "text/plain": [
       "<folium.folium.Map at 0x26b94dc45e0>"
      ]
     },
     "execution_count": 86,
     "metadata": {},
     "output_type": "execute_result"
    }
   ],
   "source": [
    "map = folium.Map(location=[df.위도.mean(), df.경도.mean()], zoom_start=6)\n",
    "for i in df.index:\n",
    "    folium.Marker(\n",
    "        location=[df.위도[i], df.경도[i]], \n",
    "        tooltip=df.명소[i], \n",
    "        popup=folium.Popup(df.도로명주소[i], max_width=200), \n",
    "    ).add_to(map)\n",
    "title_html = '<h3 align=\"center\" style=\"font-size:20px\">가고싶은 명소 10개 표시</h3>'\n",
    "map.get_root().html.add_child(folium.Element(title_html))\n",
    "map"
   ]
  },
  {
   "cell_type": "code",
   "execution_count": 98,
   "metadata": {},
   "outputs": [
    {
     "data": {
      "text/html": [
       "<div style=\"width:100%;\"><div style=\"position:relative;width:100%;height:0;padding-bottom:60%;\"><span style=\"color:#565656\">Make this Notebook Trusted to load map: File -> Trust Notebook</span><iframe src=\"about:blank\" style=\"position:absolute;width:100%;height:100%;left:0;top:0;border:none !important;\" data-html=%3C%21DOCTYPE%20html%3E%0A%3Chead%3E%20%20%20%20%0A%20%20%20%20%3Cmeta%20http-equiv%3D%22content-type%22%20content%3D%22text/html%3B%20charset%3DUTF-8%22%20/%3E%0A%20%20%20%20%0A%20%20%20%20%20%20%20%20%3Cscript%3E%0A%20%20%20%20%20%20%20%20%20%20%20%20L_NO_TOUCH%20%3D%20false%3B%0A%20%20%20%20%20%20%20%20%20%20%20%20L_DISABLE_3D%20%3D%20false%3B%0A%20%20%20%20%20%20%20%20%3C/script%3E%0A%20%20%20%20%0A%20%20%20%20%3Cstyle%3Ehtml%2C%20body%20%7Bwidth%3A%20100%25%3Bheight%3A%20100%25%3Bmargin%3A%200%3Bpadding%3A%200%3B%7D%3C/style%3E%0A%20%20%20%20%3Cstyle%3E%23map%20%7Bposition%3Aabsolute%3Btop%3A0%3Bbottom%3A0%3Bright%3A0%3Bleft%3A0%3B%7D%3C/style%3E%0A%20%20%20%20%3Cscript%20src%3D%22https%3A//cdn.jsdelivr.net/npm/leaflet%401.6.0/dist/leaflet.js%22%3E%3C/script%3E%0A%20%20%20%20%3Cscript%20src%3D%22https%3A//code.jquery.com/jquery-1.12.4.min.js%22%3E%3C/script%3E%0A%20%20%20%20%3Cscript%20src%3D%22https%3A//maxcdn.bootstrapcdn.com/bootstrap/3.2.0/js/bootstrap.min.js%22%3E%3C/script%3E%0A%20%20%20%20%3Cscript%20src%3D%22https%3A//cdnjs.cloudflare.com/ajax/libs/Leaflet.awesome-markers/2.0.2/leaflet.awesome-markers.js%22%3E%3C/script%3E%0A%20%20%20%20%3Clink%20rel%3D%22stylesheet%22%20href%3D%22https%3A//cdn.jsdelivr.net/npm/leaflet%401.6.0/dist/leaflet.css%22/%3E%0A%20%20%20%20%3Clink%20rel%3D%22stylesheet%22%20href%3D%22https%3A//maxcdn.bootstrapcdn.com/bootstrap/3.2.0/css/bootstrap.min.css%22/%3E%0A%20%20%20%20%3Clink%20rel%3D%22stylesheet%22%20href%3D%22https%3A//maxcdn.bootstrapcdn.com/bootstrap/3.2.0/css/bootstrap-theme.min.css%22/%3E%0A%20%20%20%20%3Clink%20rel%3D%22stylesheet%22%20href%3D%22https%3A//maxcdn.bootstrapcdn.com/font-awesome/4.6.3/css/font-awesome.min.css%22/%3E%0A%20%20%20%20%3Clink%20rel%3D%22stylesheet%22%20href%3D%22https%3A//cdnjs.cloudflare.com/ajax/libs/Leaflet.awesome-markers/2.0.2/leaflet.awesome-markers.css%22/%3E%0A%20%20%20%20%3Clink%20rel%3D%22stylesheet%22%20href%3D%22https%3A//cdn.jsdelivr.net/gh/python-visualization/folium/folium/templates/leaflet.awesome.rotate.min.css%22/%3E%0A%20%20%20%20%0A%20%20%20%20%20%20%20%20%20%20%20%20%3Cmeta%20name%3D%22viewport%22%20content%3D%22width%3Ddevice-width%2C%0A%20%20%20%20%20%20%20%20%20%20%20%20%20%20%20%20initial-scale%3D1.0%2C%20maximum-scale%3D1.0%2C%20user-scalable%3Dno%22%20/%3E%0A%20%20%20%20%20%20%20%20%20%20%20%20%3Cstyle%3E%0A%20%20%20%20%20%20%20%20%20%20%20%20%20%20%20%20%23map_93aa3f45bda748fdbe877dc0939dc587%20%7B%0A%20%20%20%20%20%20%20%20%20%20%20%20%20%20%20%20%20%20%20%20position%3A%20relative%3B%0A%20%20%20%20%20%20%20%20%20%20%20%20%20%20%20%20%20%20%20%20width%3A%20100.0%25%3B%0A%20%20%20%20%20%20%20%20%20%20%20%20%20%20%20%20%20%20%20%20height%3A%20100.0%25%3B%0A%20%20%20%20%20%20%20%20%20%20%20%20%20%20%20%20%20%20%20%20left%3A%200.0%25%3B%0A%20%20%20%20%20%20%20%20%20%20%20%20%20%20%20%20%20%20%20%20top%3A%200.0%25%3B%0A%20%20%20%20%20%20%20%20%20%20%20%20%20%20%20%20%7D%0A%20%20%20%20%20%20%20%20%20%20%20%20%3C/style%3E%0A%20%20%20%20%20%20%20%20%0A%3C/head%3E%0A%3Cbody%3E%20%20%20%20%0A%20%20%20%20%3Ch3%20align%3D%22center%22%20style%3D%22font-size%3A20px%22%3E%EA%B0%80%EA%B3%A0%EC%8B%B6%EC%9D%80%20%EB%AA%85%EC%86%8C%2010%EA%B0%9C%20%ED%91%9C%EC%8B%9C%3C/h3%3E%0A%20%20%20%20%0A%20%20%20%20%20%20%20%20%20%20%20%20%3Cdiv%20class%3D%22folium-map%22%20id%3D%22map_93aa3f45bda748fdbe877dc0939dc587%22%20%3E%3C/div%3E%0A%20%20%20%20%20%20%20%20%0A%3C/body%3E%0A%3Cscript%3E%20%20%20%20%0A%20%20%20%20%0A%20%20%20%20%20%20%20%20%20%20%20%20var%20map_93aa3f45bda748fdbe877dc0939dc587%20%3D%20L.map%28%0A%20%20%20%20%20%20%20%20%20%20%20%20%20%20%20%20%22map_93aa3f45bda748fdbe877dc0939dc587%22%2C%0A%20%20%20%20%20%20%20%20%20%20%20%20%20%20%20%20%7B%0A%20%20%20%20%20%20%20%20%20%20%20%20%20%20%20%20%20%20%20%20center%3A%20%5B36.51870653744263%2C%20127.75510988753251%5D%2C%0A%20%20%20%20%20%20%20%20%20%20%20%20%20%20%20%20%20%20%20%20crs%3A%20L.CRS.EPSG3857%2C%0A%20%20%20%20%20%20%20%20%20%20%20%20%20%20%20%20%20%20%20%20zoom%3A%206%2C%0A%20%20%20%20%20%20%20%20%20%20%20%20%20%20%20%20%20%20%20%20zoomControl%3A%20true%2C%0A%20%20%20%20%20%20%20%20%20%20%20%20%20%20%20%20%20%20%20%20preferCanvas%3A%20false%2C%0A%20%20%20%20%20%20%20%20%20%20%20%20%20%20%20%20%7D%0A%20%20%20%20%20%20%20%20%20%20%20%20%29%3B%0A%0A%20%20%20%20%20%20%20%20%20%20%20%20%0A%0A%20%20%20%20%20%20%20%20%0A%20%20%20%20%0A%20%20%20%20%20%20%20%20%20%20%20%20var%20tile_layer_2134dd7571c24b3bae57185c750f8e3b%20%3D%20L.tileLayer%28%0A%20%20%20%20%20%20%20%20%20%20%20%20%20%20%20%20%22https%3A//%7Bs%7D.tile.openstreetmap.org/%7Bz%7D/%7Bx%7D/%7By%7D.png%22%2C%0A%20%20%20%20%20%20%20%20%20%20%20%20%20%20%20%20%7B%22attribution%22%3A%20%22Data%20by%20%5Cu0026copy%3B%20%5Cu003ca%20href%3D%5C%22http%3A//openstreetmap.org%5C%22%5Cu003eOpenStreetMap%5Cu003c/a%5Cu003e%2C%20under%20%5Cu003ca%20href%3D%5C%22http%3A//www.openstreetmap.org/copyright%5C%22%5Cu003eODbL%5Cu003c/a%5Cu003e.%22%2C%20%22detectRetina%22%3A%20false%2C%20%22maxNativeZoom%22%3A%2018%2C%20%22maxZoom%22%3A%2018%2C%20%22minZoom%22%3A%200%2C%20%22noWrap%22%3A%20false%2C%20%22opacity%22%3A%201%2C%20%22subdomains%22%3A%20%22abc%22%2C%20%22tms%22%3A%20false%7D%0A%20%20%20%20%20%20%20%20%20%20%20%20%29.addTo%28map_93aa3f45bda748fdbe877dc0939dc587%29%3B%0A%20%20%20%20%20%20%20%20%0A%20%20%20%20%0A%20%20%20%20%20%20%20%20%20%20%20%20var%20marker_e6f27fc9991342d89882a7dcf4ce96de%20%3D%20L.marker%28%0A%20%20%20%20%20%20%20%20%20%20%20%20%20%20%20%20%5B37.4424071774866%2C%20126.462009349219%5D%2C%0A%20%20%20%20%20%20%20%20%20%20%20%20%20%20%20%20%7B%7D%0A%20%20%20%20%20%20%20%20%20%20%20%20%29.addTo%28map_93aa3f45bda748fdbe877dc0939dc587%29%3B%0A%20%20%20%20%20%20%20%20%0A%20%20%20%20%0A%20%20%20%20%20%20%20%20var%20popup_de42cc20a97d4242947ce97dd6361fe9%20%3D%20L.popup%28%7B%22maxWidth%22%3A%20%22100%25%22%7D%29%3B%0A%0A%20%20%20%20%20%20%20%20%0A%20%20%20%20%20%20%20%20%20%20%20%20var%20html_92ec349dd5db44cfb31d215e9bf0793b%20%3D%20%24%28%60%3Cdiv%20id%3D%22html_92ec349dd5db44cfb31d215e9bf0793b%22%20style%3D%22width%3A%20100.0%25%3B%20height%3A%20100.0%25%3B%22%3E%3Ciframe%20width%3D%22300%22%20height%3D%22100%22%20src%3D%22https%3A//mblogthumb-phinf.pstatic.net/MjAxOTA3MTdfMTA3/MDAxNTYzMjk0NDM0ODk1.IyNKEA0-qHLiAcphXzilMh-58fvhq9E-j2mam91PNo4g.g0J_LcpVMP9YG-D-N0exCMS70C0sUX7favEMlmblSj4g.JPEG.happyrain012/%25EB%259A%259D%25EC%2584%25AC_%25ED%2595%259C%25EA%25B0%2595%25EA%25B3%25B5%25EC%259B%2590_%285%29.jpg%3Ftype%3Dw800%22%20allowfullscreen%3E%3C/iframe%3E%3C/div%3E%60%29%5B0%5D%3B%0A%20%20%20%20%20%20%20%20%20%20%20%20popup_de42cc20a97d4242947ce97dd6361fe9.setContent%28html_92ec349dd5db44cfb31d215e9bf0793b%29%3B%0A%20%20%20%20%20%20%20%20%0A%0A%20%20%20%20%20%20%20%20marker_e6f27fc9991342d89882a7dcf4ce96de.bindPopup%28popup_de42cc20a97d4242947ce97dd6361fe9%29%0A%20%20%20%20%20%20%20%20%3B%0A%0A%20%20%20%20%20%20%20%20%0A%20%20%20%20%0A%20%20%20%20%0A%20%20%20%20%20%20%20%20%20%20%20%20marker_e6f27fc9991342d89882a7dcf4ce96de.bindTooltip%28%0A%20%20%20%20%20%20%20%20%20%20%20%20%20%20%20%20%60%3Cdiv%3E%0A%20%20%20%20%20%20%20%20%20%20%20%20%20%20%20%20%20%20%20%20%20%EC%9D%B8%EC%B2%9C%EA%B3%B5%ED%95%AD%EC%8A%A4%EC%B9%B4%EC%9D%B4%0A%20%20%20%20%20%20%20%20%20%20%20%20%20%20%20%20%20%3C/div%3E%60%2C%0A%20%20%20%20%20%20%20%20%20%20%20%20%20%20%20%20%7B%22sticky%22%3A%20true%7D%0A%20%20%20%20%20%20%20%20%20%20%20%20%29%3B%0A%20%20%20%20%20%20%20%20%0A%20%20%20%20%0A%20%20%20%20%20%20%20%20%20%20%20%20var%20marker_77bfddfdf2504424ae877b43fb79c9f9%20%3D%20L.marker%28%0A%20%20%20%20%20%20%20%20%20%20%20%20%20%20%20%20%5B37.5293645718995%2C%20127.073978164616%5D%2C%0A%20%20%20%20%20%20%20%20%20%20%20%20%20%20%20%20%7B%7D%0A%20%20%20%20%20%20%20%20%20%20%20%20%29.addTo%28map_93aa3f45bda748fdbe877dc0939dc587%29%3B%0A%20%20%20%20%20%20%20%20%0A%20%20%20%20%0A%20%20%20%20%20%20%20%20var%20popup_68bba54df434460a89453f5548652eaf%20%3D%20L.popup%28%7B%22maxWidth%22%3A%20%22100%25%22%7D%29%3B%0A%0A%20%20%20%20%20%20%20%20%0A%20%20%20%20%20%20%20%20%20%20%20%20var%20html_e6b8990a90b04c6ca704b494b3592ebf%20%3D%20%24%28%60%3Cdiv%20id%3D%22html_e6b8990a90b04c6ca704b494b3592ebf%22%20style%3D%22width%3A%20100.0%25%3B%20height%3A%20100.0%25%3B%22%3E%3Ciframe%20width%3D%22300%22%20height%3D%22100%22%20src%3D%22https%3A//mblogthumb-phinf.pstatic.net/MjAxOTA3MTdfMTA3/MDAxNTYzMjk0NDM0ODk1.IyNKEA0-qHLiAcphXzilMh-58fvhq9E-j2mam91PNo4g.g0J_LcpVMP9YG-D-N0exCMS70C0sUX7favEMlmblSj4g.JPEG.happyrain012/%25EB%259A%259D%25EC%2584%25AC_%25ED%2595%259C%25EA%25B0%2595%25EA%25B3%25B5%25EC%259B%2590_%285%29.jpg%3Ftype%3Dw800%22%20allowfullscreen%3E%3C/iframe%3E%3C/div%3E%60%29%5B0%5D%3B%0A%20%20%20%20%20%20%20%20%20%20%20%20popup_68bba54df434460a89453f5548652eaf.setContent%28html_e6b8990a90b04c6ca704b494b3592ebf%29%3B%0A%20%20%20%20%20%20%20%20%0A%0A%20%20%20%20%20%20%20%20marker_77bfddfdf2504424ae877b43fb79c9f9.bindPopup%28popup_68bba54df434460a89453f5548652eaf%29%0A%20%20%20%20%20%20%20%20%3B%0A%0A%20%20%20%20%20%20%20%20%0A%20%20%20%20%0A%20%20%20%20%0A%20%20%20%20%20%20%20%20%20%20%20%20marker_77bfddfdf2504424ae877b43fb79c9f9.bindTooltip%28%0A%20%20%20%20%20%20%20%20%20%20%20%20%20%20%20%20%60%3Cdiv%3E%0A%20%20%20%20%20%20%20%20%20%20%20%20%20%20%20%20%20%20%20%20%20%ED%95%9C%EA%B0%95%EA%B3%B5%EC%9B%90%EB%9A%9D%EC%84%AC%0A%20%20%20%20%20%20%20%20%20%20%20%20%20%20%20%20%20%3C/div%3E%60%2C%0A%20%20%20%20%20%20%20%20%20%20%20%20%20%20%20%20%7B%22sticky%22%3A%20true%7D%0A%20%20%20%20%20%20%20%20%20%20%20%20%29%3B%0A%20%20%20%20%20%20%20%20%0A%20%20%20%20%0A%20%20%20%20%20%20%20%20%20%20%20%20var%20marker_4e3c9015fc5a46f6ab4930e46baee930%20%3D%20L.marker%28%0A%20%20%20%20%20%20%20%20%20%20%20%20%20%20%20%20%5B35.1083513801628%2C%20129.083612595771%5D%2C%0A%20%20%20%20%20%20%20%20%20%20%20%20%20%20%20%20%7B%7D%0A%20%20%20%20%20%20%20%20%20%20%20%20%29.addTo%28map_93aa3f45bda748fdbe877dc0939dc587%29%3B%0A%20%20%20%20%20%20%20%20%0A%20%20%20%20%0A%20%20%20%20%20%20%20%20var%20popup_e0afdc384c4444b6925dc300541ef637%20%3D%20L.popup%28%7B%22maxWidth%22%3A%20%22100%25%22%7D%29%3B%0A%0A%20%20%20%20%20%20%20%20%0A%20%20%20%20%20%20%20%20%20%20%20%20var%20html_d1c9cf7675bf4b999b37a59f45def7ea%20%3D%20%24%28%60%3Cdiv%20id%3D%22html_d1c9cf7675bf4b999b37a59f45def7ea%22%20style%3D%22width%3A%20100.0%25%3B%20height%3A%20100.0%25%3B%22%3E%3Ciframe%20width%3D%22300%22%20height%3D%22100%22%20src%3D%22https%3A//mblogthumb-phinf.pstatic.net/MjAxOTA3MTdfMTA3/MDAxNTYzMjk0NDM0ODk1.IyNKEA0-qHLiAcphXzilMh-58fvhq9E-j2mam91PNo4g.g0J_LcpVMP9YG-D-N0exCMS70C0sUX7favEMlmblSj4g.JPEG.happyrain012/%25EB%259A%259D%25EC%2584%25AC_%25ED%2595%259C%25EA%25B0%2595%25EA%25B3%25B5%25EC%259B%2590_%285%29.jpg%3Ftype%3Dw800%22%20allowfullscreen%3E%3C/iframe%3E%3C/div%3E%60%29%5B0%5D%3B%0A%20%20%20%20%20%20%20%20%20%20%20%20popup_e0afdc384c4444b6925dc300541ef637.setContent%28html_d1c9cf7675bf4b999b37a59f45def7ea%29%3B%0A%20%20%20%20%20%20%20%20%0A%0A%20%20%20%20%20%20%20%20marker_4e3c9015fc5a46f6ab4930e46baee930.bindPopup%28popup_e0afdc384c4444b6925dc300541ef637%29%0A%20%20%20%20%20%20%20%20%3B%0A%0A%20%20%20%20%20%20%20%20%0A%20%20%20%20%0A%20%20%20%20%0A%20%20%20%20%20%20%20%20%20%20%20%20marker_4e3c9015fc5a46f6ab4930e46baee930.bindTooltip%28%0A%20%20%20%20%20%20%20%20%20%20%20%20%20%20%20%20%60%3Cdiv%3E%0A%20%20%20%20%20%20%20%20%20%20%20%20%20%20%20%20%20%20%20%20%20%EC%8B%A0%EC%84%A0%EB%8C%80%0A%20%20%20%20%20%20%20%20%20%20%20%20%20%20%20%20%20%3C/div%3E%60%2C%0A%20%20%20%20%20%20%20%20%20%20%20%20%20%20%20%20%7B%22sticky%22%3A%20true%7D%0A%20%20%20%20%20%20%20%20%20%20%20%20%29%3B%0A%20%20%20%20%20%20%20%20%0A%20%20%20%20%0A%20%20%20%20%20%20%20%20%20%20%20%20var%20marker_626bcf289c8e4a34927f3705b2b98418%20%3D%20L.marker%28%0A%20%20%20%20%20%20%20%20%20%20%20%20%20%20%20%20%5B37.2086405988748%2C%20128.843132416257%5D%2C%0A%20%20%20%20%20%20%20%20%20%20%20%20%20%20%20%20%7B%7D%0A%20%20%20%20%20%20%20%20%20%20%20%20%29.addTo%28map_93aa3f45bda748fdbe877dc0939dc587%29%3B%0A%20%20%20%20%20%20%20%20%0A%20%20%20%20%0A%20%20%20%20%20%20%20%20var%20popup_32a61fdcee3b491bb97d47d31610e8da%20%3D%20L.popup%28%7B%22maxWidth%22%3A%20%22100%25%22%7D%29%3B%0A%0A%20%20%20%20%20%20%20%20%0A%20%20%20%20%20%20%20%20%20%20%20%20var%20html_e43b37e1d15340dd9e240e1e6dcdca91%20%3D%20%24%28%60%3Cdiv%20id%3D%22html_e43b37e1d15340dd9e240e1e6dcdca91%22%20style%3D%22width%3A%20100.0%25%3B%20height%3A%20100.0%25%3B%22%3E%3Ciframe%20width%3D%22300%22%20height%3D%22100%22%20src%3D%22https%3A//mblogthumb-phinf.pstatic.net/MjAxOTA3MTdfMTA3/MDAxNTYzMjk0NDM0ODk1.IyNKEA0-qHLiAcphXzilMh-58fvhq9E-j2mam91PNo4g.g0J_LcpVMP9YG-D-N0exCMS70C0sUX7favEMlmblSj4g.JPEG.happyrain012/%25EB%259A%259D%25EC%2584%25AC_%25ED%2595%259C%25EA%25B0%2595%25EA%25B3%25B5%25EC%259B%2590_%285%29.jpg%3Ftype%3Dw800%22%20allowfullscreen%3E%3C/iframe%3E%3C/div%3E%60%29%5B0%5D%3B%0A%20%20%20%20%20%20%20%20%20%20%20%20popup_32a61fdcee3b491bb97d47d31610e8da.setContent%28html_e43b37e1d15340dd9e240e1e6dcdca91%29%3B%0A%20%20%20%20%20%20%20%20%0A%0A%20%20%20%20%20%20%20%20marker_626bcf289c8e4a34927f3705b2b98418.bindPopup%28popup_32a61fdcee3b491bb97d47d31610e8da%29%0A%20%20%20%20%20%20%20%20%3B%0A%0A%20%20%20%20%20%20%20%20%0A%20%20%20%20%0A%20%20%20%20%0A%20%20%20%20%20%20%20%20%20%20%20%20marker_626bcf289c8e4a34927f3705b2b98418.bindTooltip%28%0A%20%20%20%20%20%20%20%20%20%20%20%20%20%20%20%20%60%3Cdiv%3E%0A%20%20%20%20%20%20%20%20%20%20%20%20%20%20%20%20%20%20%20%20%20%EC%A0%95%EC%84%A0%EA%B0%95%EC%9B%90%EB%9E%9C%EB%93%9C%0A%20%20%20%20%20%20%20%20%20%20%20%20%20%20%20%20%20%3C/div%3E%60%2C%0A%20%20%20%20%20%20%20%20%20%20%20%20%20%20%20%20%7B%22sticky%22%3A%20true%7D%0A%20%20%20%20%20%20%20%20%20%20%20%20%29%3B%0A%20%20%20%20%20%20%20%20%0A%20%20%20%20%0A%20%20%20%20%20%20%20%20%20%20%20%20var%20marker_e470b240b20f4a23821fea79e71cf36b%20%3D%20L.marker%28%0A%20%20%20%20%20%20%20%20%20%20%20%20%20%20%20%20%5B37.5834045481183%2C%20128.325494726645%5D%2C%0A%20%20%20%20%20%20%20%20%20%20%20%20%20%20%20%20%7B%7D%0A%20%20%20%20%20%20%20%20%20%20%20%20%29.addTo%28map_93aa3f45bda748fdbe877dc0939dc587%29%3B%0A%20%20%20%20%20%20%20%20%0A%20%20%20%20%0A%20%20%20%20%20%20%20%20var%20popup_1166cf31ceed49978d1913c17288a2b4%20%3D%20L.popup%28%7B%22maxWidth%22%3A%20%22100%25%22%7D%29%3B%0A%0A%20%20%20%20%20%20%20%20%0A%20%20%20%20%20%20%20%20%20%20%20%20var%20html_40070b238c654e03b4a6173378faf511%20%3D%20%24%28%60%3Cdiv%20id%3D%22html_40070b238c654e03b4a6173378faf511%22%20style%3D%22width%3A%20100.0%25%3B%20height%3A%20100.0%25%3B%22%3E%3Ciframe%20width%3D%22300%22%20height%3D%22100%22%20src%3D%22https%3A//mblogthumb-phinf.pstatic.net/MjAxOTA3MTdfMTA3/MDAxNTYzMjk0NDM0ODk1.IyNKEA0-qHLiAcphXzilMh-58fvhq9E-j2mam91PNo4g.g0J_LcpVMP9YG-D-N0exCMS70C0sUX7favEMlmblSj4g.JPEG.happyrain012/%25EB%259A%259D%25EC%2584%25AC_%25ED%2595%259C%25EA%25B0%2595%25EA%25B3%25B5%25EC%259B%2590_%285%29.jpg%3Ftype%3Dw800%22%20allowfullscreen%3E%3C/iframe%3E%3C/div%3E%60%29%5B0%5D%3B%0A%20%20%20%20%20%20%20%20%20%20%20%20popup_1166cf31ceed49978d1913c17288a2b4.setContent%28html_40070b238c654e03b4a6173378faf511%29%3B%0A%20%20%20%20%20%20%20%20%0A%0A%20%20%20%20%20%20%20%20marker_e470b240b20f4a23821fea79e71cf36b.bindPopup%28popup_1166cf31ceed49978d1913c17288a2b4%29%0A%20%20%20%20%20%20%20%20%3B%0A%0A%20%20%20%20%20%20%20%20%0A%20%20%20%20%0A%20%20%20%20%0A%20%20%20%20%20%20%20%20%20%20%20%20marker_e470b240b20f4a23821fea79e71cf36b.bindTooltip%28%0A%20%20%20%20%20%20%20%20%20%20%20%20%20%20%20%20%60%3Cdiv%3E%0A%20%20%20%20%20%20%20%20%20%20%20%20%20%20%20%20%20%20%20%20%20%ED%8F%89%EC%B0%BD%ED%9C%98%EB%8B%89%EC%8A%A4%0A%20%20%20%20%20%20%20%20%20%20%20%20%20%20%20%20%20%3C/div%3E%60%2C%0A%20%20%20%20%20%20%20%20%20%20%20%20%20%20%20%20%7B%22sticky%22%3A%20true%7D%0A%20%20%20%20%20%20%20%20%20%20%20%20%29%3B%0A%20%20%20%20%20%20%20%20%0A%20%20%20%20%0A%20%20%20%20%20%20%20%20%20%20%20%20var%20marker_2bf9b2f055c045378f2c729480c296d4%20%3D%20L.marker%28%0A%20%20%20%20%20%20%20%20%20%20%20%20%20%20%20%20%5B35.8163628836843%2C%20127.154015346557%5D%2C%0A%20%20%20%20%20%20%20%20%20%20%20%20%20%20%20%20%7B%7D%0A%20%20%20%20%20%20%20%20%20%20%20%20%29.addTo%28map_93aa3f45bda748fdbe877dc0939dc587%29%3B%0A%20%20%20%20%20%20%20%20%0A%20%20%20%20%0A%20%20%20%20%20%20%20%20var%20popup_c95b2677559d44b5b8af46f4462858ea%20%3D%20L.popup%28%7B%22maxWidth%22%3A%20%22100%25%22%7D%29%3B%0A%0A%20%20%20%20%20%20%20%20%0A%20%20%20%20%20%20%20%20%20%20%20%20var%20html_f75e80fee8584deca93d228385e9d7b0%20%3D%20%24%28%60%3Cdiv%20id%3D%22html_f75e80fee8584deca93d228385e9d7b0%22%20style%3D%22width%3A%20100.0%25%3B%20height%3A%20100.0%25%3B%22%3E%3Ciframe%20width%3D%22300%22%20height%3D%22100%22%20src%3D%22https%3A//mblogthumb-phinf.pstatic.net/MjAxOTA3MTdfMTA3/MDAxNTYzMjk0NDM0ODk1.IyNKEA0-qHLiAcphXzilMh-58fvhq9E-j2mam91PNo4g.g0J_LcpVMP9YG-D-N0exCMS70C0sUX7favEMlmblSj4g.JPEG.happyrain012/%25EB%259A%259D%25EC%2584%25AC_%25ED%2595%259C%25EA%25B0%2595%25EA%25B3%25B5%25EC%259B%2590_%285%29.jpg%3Ftype%3Dw800%22%20allowfullscreen%3E%3C/iframe%3E%3C/div%3E%60%29%5B0%5D%3B%0A%20%20%20%20%20%20%20%20%20%20%20%20popup_c95b2677559d44b5b8af46f4462858ea.setContent%28html_f75e80fee8584deca93d228385e9d7b0%29%3B%0A%20%20%20%20%20%20%20%20%0A%0A%20%20%20%20%20%20%20%20marker_2bf9b2f055c045378f2c729480c296d4.bindPopup%28popup_c95b2677559d44b5b8af46f4462858ea%29%0A%20%20%20%20%20%20%20%20%3B%0A%0A%20%20%20%20%20%20%20%20%0A%20%20%20%20%0A%20%20%20%20%0A%20%20%20%20%20%20%20%20%20%20%20%20marker_2bf9b2f055c045378f2c729480c296d4.bindTooltip%28%0A%20%20%20%20%20%20%20%20%20%20%20%20%20%20%20%20%60%3Cdiv%3E%0A%20%20%20%20%20%20%20%20%20%20%20%20%20%20%20%20%20%20%20%20%20%EC%A0%84%EC%A3%BC%ED%95%9C%EC%98%A5%EB%A7%88%EC%9D%84%0A%20%20%20%20%20%20%20%20%20%20%20%20%20%20%20%20%20%3C/div%3E%60%2C%0A%20%20%20%20%20%20%20%20%20%20%20%20%20%20%20%20%7B%22sticky%22%3A%20true%7D%0A%20%20%20%20%20%20%20%20%20%20%20%20%29%3B%0A%20%20%20%20%20%20%20%20%0A%20%20%20%20%0A%20%20%20%20%20%20%20%20%20%20%20%20var%20marker_22383d26aa3a40bbaa5c3f8a847be6ae%20%3D%20L.marker%28%0A%20%20%20%20%20%20%20%20%20%20%20%20%20%20%20%20%5B37.4802401962069%2C%20127.014215239186%5D%2C%0A%20%20%20%20%20%20%20%20%20%20%20%20%20%20%20%20%7B%7D%0A%20%20%20%20%20%20%20%20%20%20%20%20%29.addTo%28map_93aa3f45bda748fdbe877dc0939dc587%29%3B%0A%20%20%20%20%20%20%20%20%0A%20%20%20%20%0A%20%20%20%20%20%20%20%20var%20popup_52690dcbd06444ea96dd92bc6a88103f%20%3D%20L.popup%28%7B%22maxWidth%22%3A%20%22100%25%22%7D%29%3B%0A%0A%20%20%20%20%20%20%20%20%0A%20%20%20%20%20%20%20%20%20%20%20%20var%20html_039d03337f144817b87760853407e558%20%3D%20%24%28%60%3Cdiv%20id%3D%22html_039d03337f144817b87760853407e558%22%20style%3D%22width%3A%20100.0%25%3B%20height%3A%20100.0%25%3B%22%3E%3Ciframe%20width%3D%22300%22%20height%3D%22100%22%20src%3D%22https%3A//mblogthumb-phinf.pstatic.net/MjAxOTA3MTdfMTA3/MDAxNTYzMjk0NDM0ODk1.IyNKEA0-qHLiAcphXzilMh-58fvhq9E-j2mam91PNo4g.g0J_LcpVMP9YG-D-N0exCMS70C0sUX7favEMlmblSj4g.JPEG.happyrain012/%25EB%259A%259D%25EC%2584%25AC_%25ED%2595%259C%25EA%25B0%2595%25EA%25B3%25B5%25EC%259B%2590_%285%29.jpg%3Ftype%3Dw800%22%20allowfullscreen%3E%3C/iframe%3E%3C/div%3E%60%29%5B0%5D%3B%0A%20%20%20%20%20%20%20%20%20%20%20%20popup_52690dcbd06444ea96dd92bc6a88103f.setContent%28html_039d03337f144817b87760853407e558%29%3B%0A%20%20%20%20%20%20%20%20%0A%0A%20%20%20%20%20%20%20%20marker_22383d26aa3a40bbaa5c3f8a847be6ae.bindPopup%28popup_52690dcbd06444ea96dd92bc6a88103f%29%0A%20%20%20%20%20%20%20%20%3B%0A%0A%20%20%20%20%20%20%20%20%0A%20%20%20%20%0A%20%20%20%20%0A%20%20%20%20%20%20%20%20%20%20%20%20marker_22383d26aa3a40bbaa5c3f8a847be6ae.bindTooltip%28%0A%20%20%20%20%20%20%20%20%20%20%20%20%20%20%20%20%60%3Cdiv%3E%0A%20%20%20%20%20%20%20%20%20%20%20%20%20%20%20%20%20%20%20%20%20%EC%98%88%EC%88%A0%EC%9D%98%EC%A0%84%EB%8B%B9%0A%20%20%20%20%20%20%20%20%20%20%20%20%20%20%20%20%20%3C/div%3E%60%2C%0A%20%20%20%20%20%20%20%20%20%20%20%20%20%20%20%20%7B%22sticky%22%3A%20true%7D%0A%20%20%20%20%20%20%20%20%20%20%20%20%29%3B%0A%20%20%20%20%20%20%20%20%0A%20%20%20%20%0A%20%20%20%20%20%20%20%20%20%20%20%20var%20marker_05a763ebb89e430a844dcd876ff21a10%20%3D%20L.marker%28%0A%20%20%20%20%20%20%20%20%20%20%20%20%20%20%20%20%5B37.5137519612953%2C%20127.104446890835%5D%2C%0A%20%20%20%20%20%20%20%20%20%20%20%20%20%20%20%20%7B%7D%0A%20%20%20%20%20%20%20%20%20%20%20%20%29.addTo%28map_93aa3f45bda748fdbe877dc0939dc587%29%3B%0A%20%20%20%20%20%20%20%20%0A%20%20%20%20%0A%20%20%20%20%20%20%20%20var%20popup_6833c8c3f3a14e109c800a221be4e2d1%20%3D%20L.popup%28%7B%22maxWidth%22%3A%20%22100%25%22%7D%29%3B%0A%0A%20%20%20%20%20%20%20%20%0A%20%20%20%20%20%20%20%20%20%20%20%20var%20html_3dbe4d8e186e4320837f857009a5920f%20%3D%20%24%28%60%3Cdiv%20id%3D%22html_3dbe4d8e186e4320837f857009a5920f%22%20style%3D%22width%3A%20100.0%25%3B%20height%3A%20100.0%25%3B%22%3E%3Ciframe%20width%3D%22300%22%20height%3D%22100%22%20src%3D%22https%3A//mblogthumb-phinf.pstatic.net/MjAxOTA3MTdfMTA3/MDAxNTYzMjk0NDM0ODk1.IyNKEA0-qHLiAcphXzilMh-58fvhq9E-j2mam91PNo4g.g0J_LcpVMP9YG-D-N0exCMS70C0sUX7favEMlmblSj4g.JPEG.happyrain012/%25EB%259A%259D%25EC%2584%25AC_%25ED%2595%259C%25EA%25B0%2595%25EA%25B3%25B5%25EC%259B%2590_%285%29.jpg%3Ftype%3Dw800%22%20allowfullscreen%3E%3C/iframe%3E%3C/div%3E%60%29%5B0%5D%3B%0A%20%20%20%20%20%20%20%20%20%20%20%20popup_6833c8c3f3a14e109c800a221be4e2d1.setContent%28html_3dbe4d8e186e4320837f857009a5920f%29%3B%0A%20%20%20%20%20%20%20%20%0A%0A%20%20%20%20%20%20%20%20marker_05a763ebb89e430a844dcd876ff21a10.bindPopup%28popup_6833c8c3f3a14e109c800a221be4e2d1%29%0A%20%20%20%20%20%20%20%20%3B%0A%0A%20%20%20%20%20%20%20%20%0A%20%20%20%20%0A%20%20%20%20%0A%20%20%20%20%20%20%20%20%20%20%20%20marker_05a763ebb89e430a844dcd876ff21a10.bindTooltip%28%0A%20%20%20%20%20%20%20%20%20%20%20%20%20%20%20%20%60%3Cdiv%3E%0A%20%20%20%20%20%20%20%20%20%20%20%20%20%20%20%20%20%20%20%20%20%EB%A1%AF%EB%8D%B0%EC%9B%94%EB%93%9C%0A%20%20%20%20%20%20%20%20%20%20%20%20%20%20%20%20%20%3C/div%3E%60%2C%0A%20%20%20%20%20%20%20%20%20%20%20%20%20%20%20%20%7B%22sticky%22%3A%20true%7D%0A%20%20%20%20%20%20%20%20%20%20%20%20%29%3B%0A%20%20%20%20%20%20%20%20%0A%20%20%20%20%0A%20%20%20%20%20%20%20%20%20%20%20%20var%20marker_3875076b07834c478ccf48cb3b3565bd%20%3D%20L.marker%28%0A%20%20%20%20%20%20%20%20%20%20%20%20%20%20%20%20%5B36.0784996781743%2C%20129.56375145785%5D%2C%0A%20%20%20%20%20%20%20%20%20%20%20%20%20%20%20%20%7B%7D%0A%20%20%20%20%20%20%20%20%20%20%20%20%29.addTo%28map_93aa3f45bda748fdbe877dc0939dc587%29%3B%0A%20%20%20%20%20%20%20%20%0A%20%20%20%20%0A%20%20%20%20%20%20%20%20var%20popup_1dc2768d5f10416f88151881d5a264ad%20%3D%20L.popup%28%7B%22maxWidth%22%3A%20%22100%25%22%7D%29%3B%0A%0A%20%20%20%20%20%20%20%20%0A%20%20%20%20%20%20%20%20%20%20%20%20var%20html_68c3028ef0a54f07a394d8757a7b1a29%20%3D%20%24%28%60%3Cdiv%20id%3D%22html_68c3028ef0a54f07a394d8757a7b1a29%22%20style%3D%22width%3A%20100.0%25%3B%20height%3A%20100.0%25%3B%22%3E%3Ciframe%20width%3D%22300%22%20height%3D%22100%22%20src%3D%22https%3A//mblogthumb-phinf.pstatic.net/MjAxOTA3MTdfMTA3/MDAxNTYzMjk0NDM0ODk1.IyNKEA0-qHLiAcphXzilMh-58fvhq9E-j2mam91PNo4g.g0J_LcpVMP9YG-D-N0exCMS70C0sUX7favEMlmblSj4g.JPEG.happyrain012/%25EB%259A%259D%25EC%2584%25AC_%25ED%2595%259C%25EA%25B0%2595%25EA%25B3%25B5%25EC%259B%2590_%285%29.jpg%3Ftype%3Dw800%22%20allowfullscreen%3E%3C/iframe%3E%3C/div%3E%60%29%5B0%5D%3B%0A%20%20%20%20%20%20%20%20%20%20%20%20popup_1dc2768d5f10416f88151881d5a264ad.setContent%28html_68c3028ef0a54f07a394d8757a7b1a29%29%3B%0A%20%20%20%20%20%20%20%20%0A%0A%20%20%20%20%20%20%20%20marker_3875076b07834c478ccf48cb3b3565bd.bindPopup%28popup_1dc2768d5f10416f88151881d5a264ad%29%0A%20%20%20%20%20%20%20%20%3B%0A%0A%20%20%20%20%20%20%20%20%0A%20%20%20%20%0A%20%20%20%20%0A%20%20%20%20%20%20%20%20%20%20%20%20marker_3875076b07834c478ccf48cb3b3565bd.bindTooltip%28%0A%20%20%20%20%20%20%20%20%20%20%20%20%20%20%20%20%60%3Cdiv%3E%0A%20%20%20%20%20%20%20%20%20%20%20%20%20%20%20%20%20%20%20%20%20%ED%98%B8%EB%AF%B8%EA%B3%B6%0A%20%20%20%20%20%20%20%20%20%20%20%20%20%20%20%20%20%3C/div%3E%60%2C%0A%20%20%20%20%20%20%20%20%20%20%20%20%20%20%20%20%7B%22sticky%22%3A%20true%7D%0A%20%20%20%20%20%20%20%20%20%20%20%20%29%3B%0A%20%20%20%20%20%20%20%20%0A%20%20%20%20%0A%20%20%20%20%20%20%20%20%20%20%20%20var%20marker_972d362881474e099bddd0bef1f2bbb0%20%3D%20L.marker%28%0A%20%20%20%20%20%20%20%20%20%20%20%20%20%20%20%20%5B33.4260423785235%2C%20126.926442688389%5D%2C%0A%20%20%20%20%20%20%20%20%20%20%20%20%20%20%20%20%7B%7D%0A%20%20%20%20%20%20%20%20%20%20%20%20%29.addTo%28map_93aa3f45bda748fdbe877dc0939dc587%29%3B%0A%20%20%20%20%20%20%20%20%0A%20%20%20%20%0A%20%20%20%20%20%20%20%20var%20popup_3558bca97cb74c25a62836a707f15e40%20%3D%20L.popup%28%7B%22maxWidth%22%3A%20%22100%25%22%7D%29%3B%0A%0A%20%20%20%20%20%20%20%20%0A%20%20%20%20%20%20%20%20%20%20%20%20var%20html_26a07a73d7194e0391b9c6cb9fa6f657%20%3D%20%24%28%60%3Cdiv%20id%3D%22html_26a07a73d7194e0391b9c6cb9fa6f657%22%20style%3D%22width%3A%20100.0%25%3B%20height%3A%20100.0%25%3B%22%3E%3Ciframe%20width%3D%22300%22%20height%3D%22100%22%20src%3D%22https%3A//mblogthumb-phinf.pstatic.net/MjAxOTA3MTdfMTA3/MDAxNTYzMjk0NDM0ODk1.IyNKEA0-qHLiAcphXzilMh-58fvhq9E-j2mam91PNo4g.g0J_LcpVMP9YG-D-N0exCMS70C0sUX7favEMlmblSj4g.JPEG.happyrain012/%25EB%259A%259D%25EC%2584%25AC_%25ED%2595%259C%25EA%25B0%2595%25EA%25B3%25B5%25EC%259B%2590_%285%29.jpg%3Ftype%3Dw800%22%20allowfullscreen%3E%3C/iframe%3E%3C/div%3E%60%29%5B0%5D%3B%0A%20%20%20%20%20%20%20%20%20%20%20%20popup_3558bca97cb74c25a62836a707f15e40.setContent%28html_26a07a73d7194e0391b9c6cb9fa6f657%29%3B%0A%20%20%20%20%20%20%20%20%0A%0A%20%20%20%20%20%20%20%20marker_972d362881474e099bddd0bef1f2bbb0.bindPopup%28popup_3558bca97cb74c25a62836a707f15e40%29%0A%20%20%20%20%20%20%20%20%3B%0A%0A%20%20%20%20%20%20%20%20%0A%20%20%20%20%0A%20%20%20%20%0A%20%20%20%20%20%20%20%20%20%20%20%20marker_972d362881474e099bddd0bef1f2bbb0.bindTooltip%28%0A%20%20%20%20%20%20%20%20%20%20%20%20%20%20%20%20%60%3Cdiv%3E%0A%20%20%20%20%20%20%20%20%20%20%20%20%20%20%20%20%20%20%20%20%20%ED%9C%98%EB%8B%89%EC%8A%A4%EC%95%84%EC%9D%BC%EB%9E%9C%EB%93%9C%0A%20%20%20%20%20%20%20%20%20%20%20%20%20%20%20%20%20%3C/div%3E%60%2C%0A%20%20%20%20%20%20%20%20%20%20%20%20%20%20%20%20%7B%22sticky%22%3A%20true%7D%0A%20%20%20%20%20%20%20%20%20%20%20%20%29%3B%0A%20%20%20%20%20%20%20%20%0A%3C/script%3E onload=\"this.contentDocument.open();this.contentDocument.write(    decodeURIComponent(this.getAttribute('data-html')));this.contentDocument.close();\" allowfullscreen webkitallowfullscreen mozallowfullscreen></iframe></div></div>"
      ],
      "text/plain": [
       "<folium.folium.Map at 0x26b94eda3d0>"
      ]
     },
     "execution_count": 98,
     "metadata": {},
     "output_type": "execute_result"
    }
   ],
   "source": [
    "map = folium.Map(location=[df.위도.mean(), df.경도.mean()], zoom_start=6)\n",
    "for i in df.index:\n",
    "    folium.Marker(\n",
    "        location=[df.위도[i], df.경도[i]], \n",
    "        tooltip=df.명소[i], \n",
    "        popup='<iframe width=\"300\" height=\"100\" src=\"https://mblogthumb-phinf.pstatic.net/MjAxOTA3MTdfMTA3/MDAxNTYzMjk0NDM0ODk1.IyNKEA0-qHLiAcphXzilMh-58fvhq9E-j2mam91PNo4g.g0J_LcpVMP9YG-D-N0exCMS70C0sUX7favEMlmblSj4g.JPEG.happyrain012/%EB%9A%9D%EC%84%AC_%ED%95%9C%EA%B0%95%EA%B3%B5%EC%9B%90_(5).jpg?type=w800\" allowfullscreen></iframe>', \n",
    "    ).add_to(map)\n",
    "title_html = '<h3 align=\"center\" style=\"font-size:20px\">가고싶은 명소 10개 표시</h3>'\n",
    "map.get_root().html.add_child(folium.Element(title_html))\n",
    "map"
   ]
  },
  {
   "cell_type": "code",
   "execution_count": 94,
   "metadata": {},
   "outputs": [],
   "source": [
    "from glob import glob"
   ]
  },
  {
   "cell_type": "code",
   "execution_count": 95,
   "metadata": {},
   "outputs": [
    {
     "data": {
      "text/plain": [
       "[]"
      ]
     },
     "execution_count": 95,
     "metadata": {},
     "output_type": "execute_result"
    }
   ],
   "source": [
    "glob('04.지도시각화/*.txt')"
   ]
  },
  {
   "cell_type": "code",
   "execution_count": 97,
   "metadata": {},
   "outputs": [
    {
     "data": {
      "text/plain": [
       "[]"
      ]
     },
     "execution_count": 97,
     "metadata": {},
     "output_type": "execute_result"
    }
   ],
   "source": [
    "glob('images/*')"
   ]
  },
  {
   "cell_type": "markdown",
   "metadata": {},
   "source": [
    "지도시각화 폴더에 이미지 폴더를 만들어서 dataframe 순서대로 01.인천공항스카이돔, 02.한강공원뚝섬과 같은 이름으로 이미지를 저장해서 glob를 사용하면 리스트로 만들어짐 이 리스트를 dataframe에 추가"
   ]
  },
  {
   "cell_type": "code",
   "execution_count": null,
   "metadata": {},
   "outputs": [],
   "source": []
  }
 ],
 "metadata": {
  "interpreter": {
   "hash": "72d8290bce898e2123793bdcf5016b68a0411406de21a03f1958d3a075c7de15"
  },
  "kernelspec": {
   "display_name": "Python 3.8.8 64-bit ('base': conda)",
   "language": "python",
   "name": "python3"
  },
  "language_info": {
   "codemirror_mode": {
    "name": "ipython",
    "version": 3
   },
   "file_extension": ".py",
   "mimetype": "text/x-python",
   "name": "python",
   "nbconvert_exporter": "python",
   "pygments_lexer": "ipython3",
   "version": "3.8.8"
  },
  "orig_nbformat": 4
 },
 "nbformat": 4,
 "nbformat_minor": 2
}
